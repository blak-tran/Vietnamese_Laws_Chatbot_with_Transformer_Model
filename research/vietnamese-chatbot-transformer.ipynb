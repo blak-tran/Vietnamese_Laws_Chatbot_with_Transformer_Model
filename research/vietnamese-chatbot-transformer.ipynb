{
 "cells": [
  {
   "cell_type": "markdown",
   "metadata": {
    "id": "N10v8EqGI1Ro"
   },
   "source": [
    "# Xây dựng Chatbot sử dụng mô hình Transformer"
   ]
  },
  {
   "cell_type": "code",
   "execution_count": 1,
   "metadata": {
    "id": "BECuUXItI1o5"
   },
   "outputs": [
    {
     "name": "stderr",
     "output_type": "stream",
     "text": [
      "2023-11-07 02:22:00.334777: E tensorflow/compiler/xla/stream_executor/cuda/cuda_dnn.cc:9342] Unable to register cuDNN factory: Attempting to register factory for plugin cuDNN when one has already been registered\n",
      "2023-11-07 02:22:00.334823: E tensorflow/compiler/xla/stream_executor/cuda/cuda_fft.cc:609] Unable to register cuFFT factory: Attempting to register factory for plugin cuFFT when one has already been registered\n",
      "2023-11-07 02:22:00.334851: E tensorflow/compiler/xla/stream_executor/cuda/cuda_blas.cc:1518] Unable to register cuBLAS factory: Attempting to register factory for plugin cuBLAS when one has already been registered\n",
      "2023-11-07 02:22:00.342605: I tensorflow/core/platform/cpu_feature_guard.cc:182] This TensorFlow binary is optimized to use available CPU instructions in performance-critical operations.\n",
      "To enable the following instructions: AVX2 FMA, in other operations, rebuild TensorFlow with the appropriate compiler flags.\n"
     ]
    }
   ],
   "source": [
    "import pandas as pd\n",
    "import numpy as np\n",
    "import re,string\n",
    "from gensim.models import KeyedVectors\n",
    "from collections import Counter\n",
    "from underthesea import word_tokenize\n",
    "from tensorflow.keras.preprocessing.text import Tokenizer \n",
    "from tensorflow.keras.preprocessing.sequence import pad_sequences\n",
    "import tensorflow as tf\n",
    "from tensorflow.keras import preprocessing, utils, activations\n",
    "# from keras.callbacks import ModelCheckpoint\n",
    "import warnings\n",
    "warnings.filterwarnings('ignore')"
   ]
  },
  {
   "cell_type": "code",
   "execution_count": 2,
   "metadata": {},
   "outputs": [
    {
     "name": "stdout",
     "output_type": "stream",
     "text": [
      "2023-11-07 02:22:02.138257: E tensorflow/compiler/xla/stream_executor/cuda/cuda_dnn.cc:9342] Unable to register cuDNN factory: Attempting to register factory for plugin cuDNN when one has already been registered\n",
      "2023-11-07 02:22:02.138309: E tensorflow/compiler/xla/stream_executor/cuda/cuda_fft.cc:609] Unable to register cuFFT factory: Attempting to register factory for plugin cuFFT when one has already been registered\n",
      "2023-11-07 02:22:02.138346: E tensorflow/compiler/xla/stream_executor/cuda/cuda_blas.cc:1518] Unable to register cuBLAS factory: Attempting to register factory for plugin cuBLAS when one has already been registered\n",
      "2023-11-07 02:22:02.145333: I tensorflow/core/platform/cpu_feature_guard.cc:182] This TensorFlow binary is optimized to use available CPU instructions in performance-critical operations.\n",
      "To enable the following instructions: AVX2 FMA, in other operations, rebuild TensorFlow with the appropriate compiler flags.\n",
      "[PhysicalDevice(name='/physical_device:GPU:0', device_type='GPU')]\n"
     ]
    }
   ],
   "source": [
    "!python3 -c \"import tensorflow as tf; print(tf.config.list_physical_devices('GPU'))\""
   ]
  },
  {
   "cell_type": "code",
   "execution_count": 3,
   "metadata": {},
   "outputs": [
    {
     "name": "stdout",
     "output_type": "stream",
     "text": [
      "Number of replicas: 1\n",
      "2.14.0\n"
     ]
    }
   ],
   "source": [
    "try:\n",
    "    tpu = tf.distribute.cluster_resolver.TPUClusterResolver()\n",
    "    print('Device:', tpu.master())\n",
    "    tf.config.experimental_connect_to_cluster(tpu)\n",
    "    tf.tpu.experimental.initialize_tpu_system(tpu)\n",
    "    strategy = tf.distribute.experimental.TPUStrategy(tpu)\n",
    "except:\n",
    "    strategy = tf.distribute.get_strategy()\n",
    "print('Number of replicas:', strategy.num_replicas_in_sync)\n",
    "\n",
    "AUTOTUNE = tf.data.experimental.AUTOTUNE\n",
    "    \n",
    "print(tf.__version__)"
   ]
  },
  {
   "cell_type": "code",
   "execution_count": 4,
   "metadata": {
    "id": "_Va-SWVOJLeO",
    "outputId": "11990d37-cb42-4ab3-9a42-368d8fe76c1e"
   },
   "outputs": [
    {
     "data": {
      "text/html": [
       "<div>\n",
       "<style scoped>\n",
       "    .dataframe tbody tr th:only-of-type {\n",
       "        vertical-align: middle;\n",
       "    }\n",
       "\n",
       "    .dataframe tbody tr th {\n",
       "        vertical-align: top;\n",
       "    }\n",
       "\n",
       "    .dataframe thead th {\n",
       "        text-align: right;\n",
       "    }\n",
       "</style>\n",
       "<table border=\"1\" class=\"dataframe\">\n",
       "  <thead>\n",
       "    <tr style=\"text-align: right;\">\n",
       "      <th></th>\n",
       "      <th>question</th>\n",
       "      <th>answer</th>\n",
       "    </tr>\n",
       "  </thead>\n",
       "  <tbody>\n",
       "    <tr>\n",
       "      <th>0</th>\n",
       "      <td>Công an xã xử phạt lỗi không mang bằng lái xe ...</td>\n",
       "      <td>Điều 7. Nhiệm vụ của lực lượng Cảnh sát khác v...</td>\n",
       "    </tr>\n",
       "    <tr>\n",
       "      <th>1</th>\n",
       "      <td>Phải thực hiện thao tác nạp mẫu vào bình chứa ...</td>\n",
       "      <td>Điều 11. Tiến hành lấy, bảo quản mẫu\\n khoản 1...</td>\n",
       "    </tr>\n",
       "    <tr>\n",
       "      <th>2</th>\n",
       "      <td>Trình tự đánh giá chất lượng hàng năm đối với ...</td>\n",
       "      <td>Điều 13. Trình tự, thủ tục đánh giá\\n khoản 1....</td>\n",
       "    </tr>\n",
       "    <tr>\n",
       "      <th>3</th>\n",
       "      <td>Tử tù chết sau khi tiêm thuốc độc mà không có ...</td>\n",
       "      <td>Điều 60. Giải quyết việc xin nhận tử thi, hài ...</td>\n",
       "    </tr>\n",
       "    <tr>\n",
       "      <th>4</th>\n",
       "      <td>Tử tù chết sau khi tiêm thuốc độc mà không có ...</td>\n",
       "      <td>Điều 9. Chi phí mai táng\\nchi phí mai táng ngư...</td>\n",
       "    </tr>\n",
       "  </tbody>\n",
       "</table>\n",
       "</div>"
      ],
      "text/plain": [
       "                                            question  \\\n",
       "0  Công an xã xử phạt lỗi không mang bằng lái xe ...   \n",
       "1  Phải thực hiện thao tác nạp mẫu vào bình chứa ...   \n",
       "2  Trình tự đánh giá chất lượng hàng năm đối với ...   \n",
       "3  Tử tù chết sau khi tiêm thuốc độc mà không có ...   \n",
       "4  Tử tù chết sau khi tiêm thuốc độc mà không có ...   \n",
       "\n",
       "                                              answer  \n",
       "0  Điều 7. Nhiệm vụ của lực lượng Cảnh sát khác v...  \n",
       "1  Điều 11. Tiến hành lấy, bảo quản mẫu\\n khoản 1...  \n",
       "2  Điều 13. Trình tự, thủ tục đánh giá\\n khoản 1....  \n",
       "3  Điều 60. Giải quyết việc xin nhận tử thi, hài ...  \n",
       "4  Điều 9. Chi phí mai táng\\nchi phí mai táng ngư...  "
      ]
     },
     "execution_count": 4,
     "metadata": {},
     "output_type": "execute_result"
    }
   ],
   "source": [
    "df = pd.read_csv('/home/dattran/datadrive2/AI-project/vietnamese_chatbot_research/input/vietnamese-chatbot/combined_law.csv')\n",
    "df.head()"
   ]
  },
  {
   "cell_type": "code",
   "execution_count": 5,
   "metadata": {
    "id": "7pSEtATtj5VL",
    "outputId": "c94199ba-d188-4511-c8a0-ae263bae257c"
   },
   "outputs": [
    {
     "data": {
      "text/html": [
       "<div>\n",
       "<style scoped>\n",
       "    .dataframe tbody tr th:only-of-type {\n",
       "        vertical-align: middle;\n",
       "    }\n",
       "\n",
       "    .dataframe tbody tr th {\n",
       "        vertical-align: top;\n",
       "    }\n",
       "\n",
       "    .dataframe thead th {\n",
       "        text-align: right;\n",
       "    }\n",
       "</style>\n",
       "<table border=\"1\" class=\"dataframe\">\n",
       "  <thead>\n",
       "    <tr style=\"text-align: right;\">\n",
       "      <th></th>\n",
       "      <th>question</th>\n",
       "      <th>answer</th>\n",
       "    </tr>\n",
       "  </thead>\n",
       "  <tbody>\n",
       "    <tr>\n",
       "      <th>0</th>\n",
       "      <td>Công an xã xử phạt lỗi không mang bằng lái xe ...</td>\n",
       "      <td>Điều 7. Nhiệm vụ của lực lượng Cảnh sát khác v...</td>\n",
       "    </tr>\n",
       "    <tr>\n",
       "      <th>1</th>\n",
       "      <td>Phải thực hiện thao tác nạp mẫu vào bình chứa ...</td>\n",
       "      <td>Điều 11. Tiến hành lấy, bảo quản mẫu\\n khoản 1...</td>\n",
       "    </tr>\n",
       "    <tr>\n",
       "      <th>2</th>\n",
       "      <td>Trình tự đánh giá chất lượng hàng năm đối với ...</td>\n",
       "      <td>Điều 13. Trình tự, thủ tục đánh giá\\n khoản 1....</td>\n",
       "    </tr>\n",
       "    <tr>\n",
       "      <th>3</th>\n",
       "      <td>Tử tù chết sau khi tiêm thuốc độc mà không có ...</td>\n",
       "      <td>Điều 60. Giải quyết việc xin nhận tử thi, hài ...</td>\n",
       "    </tr>\n",
       "    <tr>\n",
       "      <th>4</th>\n",
       "      <td>Tử tù chết sau khi tiêm thuốc độc mà không có ...</td>\n",
       "      <td>Điều 9. Chi phí mai táng\\nchi phí mai táng ngư...</td>\n",
       "    </tr>\n",
       "  </tbody>\n",
       "</table>\n",
       "</div>"
      ],
      "text/plain": [
       "                                            question  \\\n",
       "0  Công an xã xử phạt lỗi không mang bằng lái xe ...   \n",
       "1  Phải thực hiện thao tác nạp mẫu vào bình chứa ...   \n",
       "2  Trình tự đánh giá chất lượng hàng năm đối với ...   \n",
       "3  Tử tù chết sau khi tiêm thuốc độc mà không có ...   \n",
       "4  Tử tù chết sau khi tiêm thuốc độc mà không có ...   \n",
       "\n",
       "                                              answer  \n",
       "0  Điều 7. Nhiệm vụ của lực lượng Cảnh sát khác v...  \n",
       "1  Điều 11. Tiến hành lấy, bảo quản mẫu\\n khoản 1...  \n",
       "2  Điều 13. Trình tự, thủ tục đánh giá\\n khoản 1....  \n",
       "3  Điều 60. Giải quyết việc xin nhận tử thi, hài ...  \n",
       "4  Điều 9. Chi phí mai táng\\nchi phí mai táng ngư...  "
      ]
     },
     "execution_count": 5,
     "metadata": {},
     "output_type": "execute_result"
    }
   ],
   "source": [
    "df = df[:1000]\n",
    "df.head()"
   ]
  },
  {
   "cell_type": "markdown",
   "metadata": {
    "id": "WHl7tRh9lO9n"
   },
   "source": [
    "**Text Cleaning / Preprocessing**"
   ]
  },
  {
   "cell_type": "code",
   "execution_count": 6,
   "metadata": {
    "id": "UkcfrZNKlm9i",
    "outputId": "66d7ca6f-fe52-4c7d-d8a8-775723065e2b"
   },
   "outputs": [
    {
     "data": {
      "text/plain": [
       "question    0\n",
       "answer      2\n",
       "dtype: int64"
      ]
     },
     "execution_count": 6,
     "metadata": {},
     "output_type": "execute_result"
    }
   ],
   "source": [
    "df.isna().sum()"
   ]
  },
  {
   "cell_type": "code",
   "execution_count": 7,
   "metadata": {
    "id": "6rEQUmGqhPJY",
    "outputId": "8c8c6859-d9e3-4772-b59b-6448e1ab5403"
   },
   "outputs": [
    {
     "name": "stdout",
     "output_type": "stream",
     "text": [
      "Question of nan answer:  ['Nhiệm vụ của chỉ huy trưởng chỉ huy quân sự bộ, ngành trung ương trong công tác quốc phòng được quy định như thế nào?'\n",
      " 'Trách nhiệm của các Tổng cục trong đơn vị quân đội trong công tác quốc phòng địa phương được quy định như thế nào?']\n"
     ]
    }
   ],
   "source": [
    "idx = df[df['answer'].isnull()].index.tolist() # Get index of nan row\n",
    "print('Question of nan answer: ' ,df['question'][idx].values)"
   ]
  },
  {
   "cell_type": "code",
   "execution_count": 8,
   "metadata": {},
   "outputs": [
    {
     "data": {
      "text/plain": [
       "0      Công an xã xử phạt lỗi không mang bằng lái xe ...\n",
       "1      Phải thực hiện thao tác nạp mẫu vào bình chứa ...\n",
       "2      Trình tự đánh giá chất lượng hàng năm đối với ...\n",
       "3      Tử tù chết sau khi tiêm thuốc độc mà không có ...\n",
       "4      Tử tù chết sau khi tiêm thuốc độc mà không có ...\n",
       "                             ...                        \n",
       "995                          Trung tâm thương mại là gì?\n",
       "996    Công an xã có được dừng xe trên các tuyến đườn...\n",
       "997    Từ 01/07/2021 thì mức chuẩn trợ giúp xã hội hà...\n",
       "998    Thời hạn kháng nghị trong Tố tụng hình sự được...\n",
       "999    Quy định về cách ghi thông số kỹ thuật, thông ...\n",
       "Name: question, Length: 1000, dtype: object"
      ]
     },
     "execution_count": 8,
     "metadata": {},
     "output_type": "execute_result"
    }
   ],
   "source": [
    "df[\"question\"]"
   ]
  },
  {
   "cell_type": "code",
   "execution_count": 9,
   "metadata": {},
   "outputs": [
    {
     "data": {
      "text/plain": [
       "0      Điều 7. Nhiệm vụ của lực lượng Cảnh sát khác v...\n",
       "1      Điều 11. Tiến hành lấy, bảo quản mẫu\\n khoản 1...\n",
       "2      Điều 13. Trình tự, thủ tục đánh giá\\n khoản 1....\n",
       "3      Điều 60. Giải quyết việc xin nhận tử thi, hài ...\n",
       "4      Điều 9. Chi phí mai táng\\nchi phí mai táng ngư...\n",
       "                             ...                        \n",
       "995    Điều 2. Giải thích từ ngữ\\nmột số từ ngữ trong...\n",
       "996    Điều 7. Nhiệm vụ của lực lượng Cảnh sát khác v...\n",
       "997    Điều 4. Mức chuẩn trợ giúp xã hội\\n khoản 1. m...\n",
       "998    Điều 337. Thời hạn kháng nghị\\n khoản 1. thời ...\n",
       "999    Điều 9. Ghi thông số kỹ thuật, thông tin cảnh ...\n",
       "Name: answer, Length: 1000, dtype: object"
      ]
     },
     "execution_count": 9,
     "metadata": {},
     "output_type": "execute_result"
    }
   ],
   "source": [
    "df[\"answer\"]"
   ]
  },
  {
   "cell_type": "code",
   "execution_count": 10,
   "metadata": {
    "id": "shyshZ51lsWG"
   },
   "outputs": [],
   "source": [
    "# Fill in nan row value\n",
    "df['answer'] = df['answer'].fillna('Luật sư').values "
   ]
  },
  {
   "cell_type": "code",
   "execution_count": 11,
   "metadata": {
    "id": "hYVnIqkEJTTj"
   },
   "outputs": [],
   "source": [
    "# Preprocessing\n",
    "EMOTICONS = { \n",
    "    u\":-3\":\"Happy face smiley\",\n",
    "    u\":3\":\"Happy face smiley\",\n",
    "    u\":->\":\"Happy face smiley\",\n",
    "    u\":>\":\"Happy face smiley\",\n",
    "    u\":))\":\"Happy face smiley\",\n",
    "    u\":)))\":\"Happy face smiley\",\n",
    "    u\":))))\":\"Happy face smiley\",\n",
    "    u\":'<\":\"Happy face smiley\",\n",
    "    u\":)\":\"Happy face smiley\",\n",
    "    u\":(\":\"Happy face smiley\",\n",
    "    u\":((\":\"Happy face smiley\",\n",
    "    u\":‑D\":\"Laughing, big grin or laugh with glasses\",\n",
    "    u\":D\":\"Laughing, big grin or laugh with glasses\",\n",
    "    u\"XD\":\"Laughing, big grin or laugh with glasses\",\n",
    "    u\"=D\":\"Laughing, big grin or laugh with glasses\",\n",
    "    u\":‑c\":\"Frown, sad, andry or pouting\",\n",
    "    u\":c\":\"Frown, sad, andry or pouting\",\n",
    "    u\":‑<\":\"Frown, sad, andry or pouting\",\n",
    "    u\":<\":\"Frown, sad, andry or pouting\",\n",
    "    u\":@\":\"Frown, sad, andry or pouting\",\n",
    "    u\"D:\":\"Sadness\",\n",
    "    u\":O\":\"Surprise\",\n",
    "    u\":o\":\"Surprise\",\n",
    "}\n",
    "\n",
    "cnt = Counter()\n",
    "for text in df[\"answer\"].values:\n",
    "    for word in text.split():\n",
    "        cnt[word] += 1\n",
    "\n",
    "RAREWORDS = set([w for (w, wc) in cnt.most_common()[:-10-1:-1]]) #Get top 10 rare word\n",
    "\n",
    "def remove_emoticons(text):\n",
    "    \"Function to remove emoticons\"\n",
    "    arr = [word for word in text.split() if word not in EMOTICONS.keys()]\n",
    "    return \" \".join(arr)\n",
    "\n",
    "def remove_rarewords(text):\n",
    "    \"\"\"custom function to remove the rare words\"\"\"\n",
    "    return \" \".join([word for word in str(text).split() if word not in RAREWORDS])\n",
    "\n",
    "def preprocessing(df): \n",
    "  df[\"question\"] = df[\"question\"].apply(lambda ele: ele.translate(str.maketrans('', '', string.punctuation))) # Remove punctuation\n",
    "  df[\"answer\"] = df[\"answer\"].apply(lambda ele: ele.translate(str.maketrans('', '', string.punctuation))) \n",
    "  df[\"question\"] = df[\"question\"].apply(lambda ele: remove_emoticons(ele)) # Remove emoticons\n",
    "  df[\"answer\"] = df[\"answer\"].apply(lambda ele: remove_emoticons(ele))\n",
    "  df[\"question\"] = df[\"question\"].apply(lambda ele: remove_rarewords(ele)) # Remove rarewords\n",
    "  df[\"answer\"] = df[\"answer\"].apply(lambda ele: remove_rarewords(ele))\n",
    "  df['answer'] = df['answer'].apply(lambda ele: 'START ' + ele + ' END')\n",
    "  df[\"question\"] = df[\"question\"].apply(lambda ele: ele.lower()) # convert text to lowercase\n",
    "  df[\"answer\"] = df[\"answer\"].apply(lambda ele: ele.lower()) \n",
    "  \n",
    "  return df\n",
    "\n",
    "df = preprocessing(df)"
   ]
  },
  {
   "cell_type": "code",
   "execution_count": 12,
   "metadata": {},
   "outputs": [
    {
     "data": {
      "text/plain": [
       "<bound method NDFrame.head of                                               question  \\\n",
       "0    công an xã xử phạt lỗi không mang bằng lái xe ...   \n",
       "1    phải thực hiện thao tác nạp mẫu vào bình chứa ...   \n",
       "2    trình tự đánh giá chất lượng hàng năm đối với ...   \n",
       "3    tử tù chết sau khi tiêm thuốc độc mà không có ...   \n",
       "4    tử tù chết sau khi tiêm thuốc độc mà không có ...   \n",
       "..                                                 ...   \n",
       "995                         trung tâm thương mại là gì   \n",
       "996  công an xã có được dừng xe trên các tuyến đườn...   \n",
       "997  từ 01072021 thì mức chuẩn trợ giúp xã hội hàng...   \n",
       "998  thời hạn kháng nghị trong tố tụng hình sự được...   \n",
       "999  quy định về cách ghi thông số kỹ thuật thông t...   \n",
       "\n",
       "                                                answer  \n",
       "0    start điều 7 nhiệm vụ của lực lượng cảnh sát k...  \n",
       "1    start điều 11 tiến hành lấy bảo quản mẫu khoản...  \n",
       "2    start điều 13 trình tự thủ tục đánh giá khoản ...  \n",
       "3    start điều 60 giải quyết việc xin nhận tử thi ...  \n",
       "4    start điều 9 chi phí mai táng chi phí mai táng...  \n",
       "..                                                 ...  \n",
       "995  start điều 2 giải thích từ ngữ một số từ ngữ t...  \n",
       "996  start điều 7 nhiệm vụ của lực lượng cảnh sát k...  \n",
       "997  start điều 4 mức chuẩn trợ giúp xã hội khoản 1...  \n",
       "998  start điều 337 thời hạn kháng nghị khoản 1 thờ...  \n",
       "999  start điều 9 ghi thông số kỹ thuật thông tin c...  \n",
       "\n",
       "[1000 rows x 2 columns]>"
      ]
     },
     "execution_count": 12,
     "metadata": {},
     "output_type": "execute_result"
    }
   ],
   "source": [
    "df.head"
   ]
  },
  {
   "cell_type": "code",
   "execution_count": 13,
   "metadata": {},
   "outputs": [
    {
     "data": {
      "text/plain": [
       "0      công an xã xử phạt lỗi không mang bằng lái xe ...\n",
       "1      phải thực hiện thao tác nạp mẫu vào bình chứa ...\n",
       "2      trình tự đánh giá chất lượng hàng năm đối với ...\n",
       "3      tử tù chết sau khi tiêm thuốc độc mà không có ...\n",
       "4      tử tù chết sau khi tiêm thuốc độc mà không có ...\n",
       "                             ...                        \n",
       "995                           trung tâm thương mại là gì\n",
       "996    công an xã có được dừng xe trên các tuyến đườn...\n",
       "997    từ 01072021 thì mức chuẩn trợ giúp xã hội hàng...\n",
       "998    thời hạn kháng nghị trong tố tụng hình sự được...\n",
       "999    quy định về cách ghi thông số kỹ thuật thông t...\n",
       "Name: question, Length: 1000, dtype: object"
      ]
     },
     "execution_count": 13,
     "metadata": {},
     "output_type": "execute_result"
    }
   ],
   "source": [
    "df[\"question\"]"
   ]
  },
  {
   "cell_type": "code",
   "execution_count": 14,
   "metadata": {},
   "outputs": [
    {
     "data": {
      "text/plain": [
       "0      start điều 7 nhiệm vụ của lực lượng cảnh sát k...\n",
       "1      start điều 11 tiến hành lấy bảo quản mẫu khoản...\n",
       "2      start điều 13 trình tự thủ tục đánh giá khoản ...\n",
       "3      start điều 60 giải quyết việc xin nhận tử thi ...\n",
       "4      start điều 9 chi phí mai táng chi phí mai táng...\n",
       "                             ...                        \n",
       "995    start điều 2 giải thích từ ngữ một số từ ngữ t...\n",
       "996    start điều 7 nhiệm vụ của lực lượng cảnh sát k...\n",
       "997    start điều 4 mức chuẩn trợ giúp xã hội khoản 1...\n",
       "998    start điều 337 thời hạn kháng nghị khoản 1 thờ...\n",
       "999    start điều 9 ghi thông số kỹ thuật thông tin c...\n",
       "Name: answer, Length: 1000, dtype: object"
      ]
     },
     "execution_count": 14,
     "metadata": {},
     "output_type": "execute_result"
    }
   ],
   "source": [
    "df[\"answer\"]"
   ]
  },
  {
   "cell_type": "code",
   "execution_count": 15,
   "metadata": {
    "id": "hHcACgVuJWQf",
    "outputId": "e5197964-a274-4f27-de7c-9eab6670aa9d"
   },
   "outputs": [
    {
     "name": "stdout",
     "output_type": "stream",
     "text": [
      "['công an xã xử phạt lỗi không mang bằng lái xe có đúng không'\n",
      " 'phải thực hiện thao tác nạp mẫu vào bình chứa và xử lý mẫu sơ bộ bằng hóa chất như thế nào'\n",
      " 'trình tự đánh giá chất lượng hàng năm đối với kiểm soát viên được quy định như thế nào'\n",
      " 'tử tù chết sau khi tiêm thuốc độc mà không có thân nhân nhận xác thì được hỗ trợ mai táng như thế nào'\n",
      " 'tử tù chết sau khi tiêm thuốc độc mà không có thân nhân nhận xác thì được hỗ trợ mai táng như thế nào']\n",
      "['start điều 7 nhiệm vụ của lực lượng cảnh sát khác và công an xã khoản 1 bố trí lực lượng tham gia tuần tra kiểm soát trật tự an toàn giao thông theo kế hoạch khoản 2 thống kê báo cáo các vụ việc vi phạm pháp luật tai nạn giao thông đường bộ kết quả tuần tra kiểm soát và xử lý vi phạm hành chính về trật tự an toàn giao thông đường bộ theo sự phân công trong kế hoạch khoản 3 trường hợp không có lực lượng cảnh sát giao thông đi cùng thì lực lượng cảnh sát khác và công an xã thực hiện việc tuần tra kiểm soát theo kế hoạch đã được cấp có thẩm quyền phê duyệt khoản 4 lực lượng công an xã chỉ được tuần tra kiểm soát trên các tuyến đường liên xã liên thôn thuộc địa bàn quản lý và xử lý các hành vi vi phạm trật tự an toàn giao thông sau điều khiển xe mô tô xe gắn máy không đội mũ bảo hiểm chở quá số người quy định chở hàng hóa cồng kềnh đỗ xe ở lòng đường trái quy định điều khiển phương tiện phóng nhanh lạng lách đánh võng tháo ống xả không có gương chiếu hậu hoặc chưa đủ tuổi điều khiển phương tiện theo quy định của pháp luật và các hành vi vi phạm hành lang an toàn giao thông đường bộ như họp chợ dưới lòng đường lấn chiếm hành lang an toàn giao thông nghiêm cấm việc công an xã dừng xe kiểm soát trên các tuyến quốc lộ tỉnh lộ end'\n",
      " 'start điều 11 tiến hành lấy bảo quản mẫu khoản 1 chuẩn bị cho việc lấy mẫu điểm a dọn sạch khu vực đã chọn làm điểm thu mẫu để loại bỏ các cặn bùn các lớp vi khuẩn ở trên thành cống thải vật nổi trên mặt nước nếu dòng thải không có điều kiện chảy rối thì thực hiện như khoản 3 điều khoản 10 khi có sự phân tầng ở dòng thải thì phải khuấy trộn đều dòng thải trước khi lấy mẫu điểm b kiểm tra lại độ sạch của các bình chứa mẫu dụng cụ lấy và chứa mẫu trung gian rà soát và chuẩn bị các dụng cụ và hóa chất để xử lý sơ bộ kiểm tra và chuẩn bị vật tư niêm phong chuẩn bị các trang thiết bị bảo hộ và các điều kiện cần thiết khác có thể ghi và dán nhãn mẫu vào thời điểm này điểm c lắp dụng cụ lấy mẫu nối cán của cây lấy mẫu buộc dây gàu mặc bảo hộ lao động và các thiết bị bảo đảm an toàn khác khoản 2 thao tác lấy mẫu điểm a việc lấy mẫu phải có mặt chủ nguồn thải hoặc người đại diện của cơ sở có nguồn thải trường hợp chủ nguồn thải hoặc người đại diện vắng mặt hoặc không hợp tác thì trưởng đoàn công tác có trách nhiệm lập biên bản về sự vắng mặt hoặc không hợp tác và phải có người chứng kiến việc lấy mẫu điểm b trước khi lấy mẫu phải cho chủ nguồn thải hoặc người đại diện của cơ sở có nguồn thải hoặc người chứng kiến thấy dụng cụ lấy và chứa mẫu đảm bảo sạch các dụng cụ và hóa chất đáp ứng các tiêu chuẩn quốc gia về lấy mẫu chụp ảnh hoặc quay phim về điểm thu mẫu và hoạt động thu mẫu điểm c sử dụng dụng cụ lấy mẫu để múc nước thải vào dụng cụ chứa trung gian xô bằng nhựa sạch có dung tích từ 10 đến 15 lít nếu chiều sâu dòng nước thải nhỏ hơn 01 mét độ sâu lấy mẫu nước thải nằm ở 13 chiều sâu dòng nước thải tính từ bề mặt nước nếu chiều sâu dòng nước thải lớn hơn 01 mét thì lấy ở độ sâu từ 20cm đến 50cm tính từ mặt nước với các cửa xả thải nhỏ và dạng thác thì chọn điểm lấy mẫu ở giữa dòng nước thải trường hợp phải khuấy trộn dòng nước thải cho đều thì sau khi khuấy phải để 05 phút cho cặn thô lắng xuống đáy mới tiến hành lấy mẫu phải lọc rác trước khi cho mẫu vào dụng cụ chứa trung gian điểm d trường hợp lấy mẫu xác định các chất nổi và nhũ hóa thì phải tráng dụng cụ chứa trung gian bằng đầy nước thải đổ nước tráng đi rồi lấy mẫu như bình thường khoản 3 nạp mẫu vào bình chứa xử lý mẫu sơ bộ bằng hóa chất điểm a nạp mẫu vào bình chứa dùng ca để lấy mẫu từ dụng cụ chứa trung gian nạp vào bình chứa mức độ đầy vơi khi nạp mẫu vào bình chứa phải căn cứ vào quy định đối với từng loại thông số phân tích với những bình mẫu phải cho hóa chất bảo quản thì chỉ nạp gần đủ rồi thực hiện bước nạp hóa chất bảo quản mẫu xử lý mẫu sơ bộ bằng hóa chất lọc mẫu trước khi nạp nếu yêu cầu quy định điểm b xử lý mẫu sơ bộ bằng hóa chất những mẫu cần phải bảo quản bằng hóa chất thì thêm loại và lượng hóa chất theo quy định trong bảng tsnt thuộc phụ lục 02 ban hành kèm theo thông tư này hoặc theo tiêu chuẩn quốc gia về bảo quản và xử lý mẫu nước hóa chất thường dùng h2so4 11 hno3 11 hcl 11 naoh 10 m ch3coo2zn 10 sau khi thêm đủ lượng hóa chất nạp bổ sung lượng nước thải cho đến đủ hoặc đầy như quy định thì vặn chặt nút bình lật ngược bình chứa mẫu và lắc để kiểm tra độ kín của nắp bình nếu có nước rỉ ra ngoài thì phải vặn chặt lại lau khô lắc kiểm tra lần nữa nếu nước vẫn rò rỉ ra ngoài thì phải thay bình chứa khác khi thêm hóa chất dạng lỏng không được quá 05ml hóa chất cho 01 lít mẫu để đạt tới ph ≤ 2 có thể lấy lượng chính xác theo tỷ lệ 4ml axit 11 hay 2ml axit đậm đặc cho 01 lít mẫu end'\n",
      " 'start điều 13 trình tự thủ tục đánh giá khoản 1 đối với người quản lý doanh nghiệp nhà nước điểm a người quản lý doanh nghiệp nhà nước viết bản tự nhận xét đánh giá theo nội dung tiêu chí đánh giá và tự nhận mức độ xếp loại chất lượng điểm b hội đồng thành viên họp nhận xét đánh giá đối với người quản lý doanh nghiệp cuộc họp đánh giá xếp loại chất lượng được ghi thành biên bản trong đó nêu rõ thành phần tham dự các ý kiến tham gia điểm c lấy ý kiến bằng văn bản về đánh giá xếp loại chất lượng người quản lý doanh nghiệp của cấp ủy cùng cấp điểm d trên cơ sở ý kiến của cấp ủy cùng cấp hội đồng thành viên hoặc chủ tịch công ty xem xét quyết định đánh giá xếp loại chất lượng đối với người quản lý doanh nghiệp theo thẩm quyền hoặc báo cáo kết quả đánh giá xếp loại chất lượng chủ tịch hội đồng thành viên thành viên hội đồng thành viên chủ tịch công ty gửi cơ quan đại diện chủ sở hữu xem xét quyết định khoản 2 đối với kiểm soát viên điểm a kiểm soát viên viết bản tự nhận xét đánh giá và tự nhận mức độ xếp loại chất lượng gửi đến cơ quan đại diện chủ sở hữu điểm b căn cứ vào tiêu chí đánh giá xếp loại chất lượng quy định tại nghị định này và nhiệm vụ được giao theo kế hoạch hàng năm cơ quan đại diện chủ sở hữu xem xét quyết định mức xếp loại chất lượng đối với kiểm soát viên khoản 3 đối với người đại diện phần vốn nhà nước điểm a người đại diện phần vốn nhà nước viết bản tự nhận xét đánh giá theo nội dung tiêu chí đánh giá và tự nhận mức độ xếp loại chất lượng gửi cơ quan đại diện chủ sở hữu điểm b cơ quan đại diện chủ sở hữu lấy ý kiến nhận xét đánh giá của hội đồng thành viên chủ tịch công ty hội đồng quản trị đối với người đại diện phần vốn nhà nước nếu cần điểm c căn cứ vào tiêu chí đánh giá xếp loại chất lượng quy định tại nghị định này và nhiệm vụ được giao theo kế hoạch hàng năm cơ quan đại diện chủ sở hữu xem xét quyết định mức xếp loại chất lượng đối với người đại diện phần vốn nhà nước khoản 4 kết quả đánh giá xếp loại chất lượng được lưu vào hồ sơ và thông báo đến từng người quản lý doanh nghiệp nhà nước kiểm soát viên người đại diện phần vốn nhà nước end'\n",
      " 'start điều 60 giải quyết việc xin nhận tử thi hài cốt của người bị thi hành án tử hình khoản 1 việc giải quyết nhận tử thi được thực hiện như sau điểm a trước khi thi hành án tử hình thân nhân hoặc người đại diện hợp pháp của người chấp hành án được làm đơn có xác nhận của ủy ban nhân dân cấp xã nơi cư trú gửi chánh án tòa án đã xét xử sơ thẩm đề nghị giải quyết cho nhận tử thi của người chấp hành án để an táng trường hợp người chấp hành án là người nước ngoài thì đơn phải có xác nhận của cơ quan có thẩm quyền hoặc cơ quan đại diện ngoại giao tại việt nam của nước mà người chấp hành án mang quốc tịch và phải được dịch ra tiếng việt đơn phải ghi rõ họ tên địa chỉ người nhận tử thi quan hệ với người chấp hành án cam kết bảo đảm yêu cầu về an ninh trật tự vệ sinh môi trường và tự chịu chi phí điểm b chánh án tòa án đã xét xử sơ thẩm thông báo bằng văn bản cho người có đơn đề nghị về việc cho nhận tử thi hoặc không cho nhận tử thi khi có căn cứ cho rằng việc nhận tử thi ảnh hưởng đến an ninh trật tự vệ sinh môi trường trường hợp người chấp hành án là người nước ngoài thì chánh án tòa án đã xét xử sơ thẩm có trách nhiệm thông báo bằng văn bản cho bộ ngoại giao việt nam để thông báo cho cơ quan có thẩm quyền hoặc cơ quan đại diện ngoại giao tại việt nam của nước mà người đó mang quốc tịch điểm c cơ quan thi hành án hình sự công an cấp tỉnh cơ quan thi hành án hình sự cấp quân khu có trách nhiệm thông báo cho người có đơn đề nghị ngay sau khi thi hành án để đến nhận tử thi về an táng việc giao nhận tử thi phải được thực hiện trong thời hạn 24 giờ kể từ khi thông báo và phải lập biên bản có chữ ký của các bên giao nhận hết thời hạn này mà người có đơn đề nghị không đến nhận tử thi thì cơ quan thi hành án hình sự công an cấp tỉnh cơ quan thi hành án hình sự cấp quân khu có trách nhiệm an táng trường hợp không được nhận tử thi hoặc thân nhân của người bị thi hành án không có đơn đề nghị được nhận tử thi về an táng thì cơ quan thi hành án hình sự công an cấp tỉnh cơ quan thi hành án hình sự cấp quân khu tổ chức việc an táng end'\n",
      " 'start điều 9 chi phí mai táng chi phí mai táng người bị thi hành án tử hình bao gồm 01 quan tài bằng gỗ thường 01 bộ quần áo thường 04 m vải liệm hương nến rượu cồn để làm vệ sinh khi liệm tử thi và các chi phí mai táng khác trường hợp thân nhân hoặc người đại diện hợp pháp của người bị kết án tử hình được nhận tử thi về mai táng thì phải tự chịu chi phí đưa di chuyển tử thi và phải cam kết chấp hành đúng quy định của pháp luật về bảo đảm an ninh trật tự end']\n"
     ]
    }
   ],
   "source": [
    "data = df.values #numpy \n",
    "questions = data[:,0] # convert question to a list\n",
    "answers = data[:,1] # convert answer that match with question to list\n",
    "print(questions[:5]) \n",
    "print(answers[:5])"
   ]
  },
  {
   "cell_type": "markdown",
   "metadata": {
    "id": "3GalJfC-yhwD"
   },
   "source": [
    "**Tokenization and Encode, Decode**"
   ]
  },
  {
   "cell_type": "code",
   "execution_count": 16,
   "metadata": {
    "id": "tM0OEAcmJZZY",
    "outputId": "f92e1958-5c12-4f8d-e8f3-94b50715760b"
   },
   "outputs": [
    {
     "name": "stdout",
     "output_type": "stream",
     "text": [
      "1000\n",
      "[['công an', 'xã', 'xử phạt', 'lỗi', 'không', 'mang', 'bằng', 'lái xe', 'có', 'đúng', 'không'], ['phải', 'thực hiện', 'thao tác nạp', 'mẫu', 'vào', 'bình chứa', 'và', 'xử lý', 'mẫu', 'sơ bộ', 'bằng', 'hóa chất', 'như thế nào'], ['trình tự', 'đánh giá', 'chất lượng', 'hàng', 'năm', 'đối với', 'kiểm soát viên', 'được', 'quy định', 'như thế nào']]\n"
     ]
    }
   ],
   "source": [
    "# Tokenization questions\n",
    "questions = [word_tokenize(ques) for ques in questions]\n",
    "print(len(questions))\n",
    "print(questions[:3])"
   ]
  },
  {
   "cell_type": "code",
   "execution_count": 17,
   "metadata": {
    "id": "axGM_AzyKMP-",
    "outputId": "be31a17c-da33-4ceb-e5d0-b174c8e45272"
   },
   "outputs": [
    {
     "name": "stdout",
     "output_type": "stream",
     "text": [
      "1000\n",
      "[['start', 'điều', '7', 'nhiệm vụ', 'của', 'lực lượng', 'cảnh sát', 'khác', 'và', 'công an', 'xã', 'khoản', '1', 'bố trí', 'lực lượng', 'tham gia', 'tuần tra', 'kiểm soát', 'trật tự', 'an toàn', 'giao thông', 'theo', 'kế hoạch', 'khoản', '2', 'thống kê', 'báo cáo', 'các', 'vụ việc', 'vi phạm', 'pháp luật', 'tai nạn', 'giao thông', 'đường bộ', 'kết quả', 'tuần tra', 'kiểm soát', 'và', 'xử lý', 'vi phạm', 'hành chính', 'về', 'trật tự', 'an toàn', 'giao thông', 'đường bộ', 'theo', 'sự', 'phân công', 'trong', 'kế hoạch', 'khoản', '3', 'trường hợp', 'không', 'có', 'lực lượng', 'cảnh sát', 'giao thông', 'đi', 'cùng', 'thì', 'lực lượng', 'cảnh sát', 'khác', 'và', 'công an', 'xã', 'thực hiện', 'việc', 'tuần tra', 'kiểm soát', 'theo', 'kế hoạch', 'đã', 'được', 'cấp', 'có', 'thẩm quyền', 'phê duyệt', 'khoản', '4', 'lực lượng', 'công an', 'xã', 'chỉ', 'được', 'tuần tra', 'kiểm soát', 'trên', 'các', 'tuyến', 'đường', 'liên xã', 'liên thôn', 'thuộc', 'địa bàn', 'quản lý', 'và', 'xử lý', 'các', 'hành vi', 'vi phạm', 'trật tự', 'an toàn', 'giao thông', 'sau', 'điều khiển', 'xe', 'mô tô', 'xe gắn máy', 'không', 'đội', 'mũ bảo hiểm', 'chở', 'quá', 'số', 'người', 'quy định', 'chở', 'hàng', 'hóa', 'cồng kềnh', 'đỗ', 'xe', 'ở', 'lòng đường', 'trái', 'quy định', 'điều khiển', 'phương tiện', 'phóng', 'nhanh', 'lạng lách', 'đánh võng', 'tháo', 'ống', 'xả', 'không', 'có', 'gương', 'chiếu hậu', 'hoặc', 'chưa', 'đủ', 'tuổi', 'điều khiển', 'phương tiện', 'theo', 'quy định', 'của', 'pháp luật', 'và', 'các', 'hành vi', 'vi phạm', 'hành lang', 'an toàn', 'giao thông', 'đường bộ', 'như', 'họp', 'chợ', 'dưới', 'lòng đường', 'lấn chiếm', 'hành lang', 'an toàn', 'giao thông', 'nghiêm cấm', 'việc', 'công an', 'xã', 'dừng', 'xe', 'kiểm soát', 'trên', 'các', 'tuyến', 'quốc lộ', 'tỉnh lộ', 'end'], ['start', 'điều', '11', 'tiến hành', 'lấy', 'bảo quản', 'mẫu', 'khoản', '1', 'chuẩn bị', 'cho', 'việc', 'lấy', 'mẫu', 'điểm', 'a dọn', 'sạch', 'khu vực', 'đã', 'chọn', 'làm', 'điểm', 'thu mẫu', 'để', 'loại bỏ', 'các', 'cặn bùn', 'các', 'lớp', 'vi khuẩn', 'ở', 'trên', 'thành', 'cống', 'thải vật', 'nổi', 'trên', 'mặt nước', 'nếu', 'dòng', 'thải', 'không', 'có', 'điều kiện', 'chảy rối', 'thì', 'thực hiện', 'như', 'khoản', '3', 'điều khoản', '10', 'khi', 'có', 'sự', 'phân tầng', 'ở', 'dòng thải', 'thì', 'phải', 'khuấy trộn', 'đều', 'dòng', 'thải', 'trước', 'khi', 'lấy', 'mẫu', 'điểm', 'b', 'kiểm tra', 'lại', 'độ', 'sạch', 'của', 'các', 'bình', 'chứa', 'mẫu', 'dụng cụ', 'lấy', 'và', 'chứa', 'mẫu', 'trung gian', 'rà soát', 'và', 'chuẩn bị', 'các', 'dụng cụ', 'và', 'hóa chất', 'để', 'xử lý', 'sơ bộ', 'kiểm tra', 'và', 'chuẩn bị', 'vật tư', 'niêm phong', 'chuẩn bị', 'các', 'trang thiết bị', 'bảo hộ', 'và', 'các', 'điều kiện', 'cần thiết', 'khác', 'có thể', 'ghi', 'và', 'dán', 'nhãn', 'mẫu', 'vào', 'thời điểm', 'này', 'điểm', 'c', 'lắp dụng cụ', 'lấy', 'mẫu', 'nối cán', 'của', 'cây', 'lấy', 'mẫu', 'buộc', 'dây', 'gàu', 'mặc', 'bảo hộ lao động', 'và', 'các', 'thiết bị', 'bảo đảm', 'an toàn', 'khác', 'khoản', '2', 'thao tác', 'lấy', 'mẫu', 'điểm', 'a', 'việc', 'lấy', 'mẫu', 'phải', 'có mặt', 'chủ', 'nguồn', 'thải', 'hoặc', 'người', 'đại diện', 'của', 'cơ sở', 'có', 'nguồn', 'thải', 'trường hợp', 'chủ', 'nguồn', 'thải', 'hoặc', 'người', 'đại diện', 'vắng mặt', 'hoặc', 'không', 'hợp tác', 'thì', 'trưởng đoàn', 'công tác', 'có', 'trách nhiệm', 'lập', 'biên bản', 'về', 'sự', 'vắng mặt', 'hoặc', 'không', 'hợp tác', 'và', 'phải', 'có', 'người', 'chứng kiến', 'việc', 'lấy', 'mẫu', 'điểm', 'b', 'trước', 'khi', 'lấy', 'mẫu', 'phải', 'cho', 'chủ', 'nguồn', 'thải', 'hoặc', 'người', 'đại diện', 'của', 'cơ sở', 'có', 'nguồn', 'thải', 'hoặc', 'người', 'chứng kiến', 'thấy', 'dụng cụ', 'lấy', 'và', 'chứa', 'mẫu', 'đảm bảo', 'sạch', 'các', 'dụng cụ', 'và', 'hóa chất', 'đáp ứng', 'các', 'tiêu chuẩn', 'quốc gia', 'về', 'lấy', 'mẫu', 'chụp', 'ảnh', 'hoặc', 'quay phim', 'về', 'điểm', 'thu mẫu', 'và', 'hoạt động', 'thu', 'mẫu', 'điểm', 'c', 'sử dụng', 'dụng cụ', 'lấy', 'mẫu', 'để', 'múc', 'nước thải', 'vào', 'dụng cụ', 'chứa', 'trung gian', 'xô', 'bằng', 'nhựa', 'sạch', 'có', 'dung tích', 'từ', '10', 'đến', '15', 'lít', 'nếu', 'chiều', 'sâu', 'dòng', 'nước thải', 'nhỏ', 'hơn', '01', 'mét độ', 'sâu', 'lấy', 'mẫu', 'nước thải', 'nằm', 'ở', '13', 'chiều', 'sâu', 'dòng', 'nước thải', 'tính', 'từ', 'bề mặt nước', 'nếu', 'chiều', 'sâu', 'dòng', 'nước thải', 'lớn', 'hơn', '01', 'mét', 'thì', 'lấy', 'ở', 'độ', 'sâu', 'từ', '20', 'cm', 'đến', '50', 'cm tính', 'từ', 'mặt nước', 'với', 'các', 'cửa', 'xả', 'thải', 'nhỏ', 'và', 'dạng', 'thác', 'thì', 'chọn', 'điểm', 'lấy', 'mẫu', 'ở', 'giữa', 'dòng', 'nước thải', 'trường hợp', 'phải', 'khuấy', 'trộn', 'dòng', 'nước thải', 'cho', 'đều', 'thì', 'sau', 'khi', 'khuấy', 'phải', 'để', '05', 'phút', 'cho', 'cặn', 'thô lắng', 'xuống', 'đáy', 'mới', 'tiến hành', 'lấy', 'mẫu', 'phải', 'lọc', 'rác', 'trước', 'khi', 'cho', 'mẫu', 'vào', 'dụng cụ', 'chứa', 'trung gian', 'điểm', 'd', 'trường hợp', 'lấy', 'mẫu', 'xác định', 'các', 'chất', 'nổi', 'và', 'nhũ hóa', 'thì', 'phải', 'tráng', 'dụng cụ', 'chứa', 'trung gian', 'bằng', 'đầy', 'nước thải', 'đổ', 'nước', 'tráng', 'đi', 'rồi', 'lấy', 'mẫu', 'như', 'bình thường', 'khoản', '3', 'nạp', 'mẫu', 'vào', 'bình chứa', 'xử lý', 'mẫu', 'sơ bộ', 'bằng', 'hóa', 'chất', 'điểm', 'a nạp', 'mẫu', 'vào', 'bình', 'chứa', 'dùng', 'ca', 'để', 'lấy', 'mẫu', 'từ', 'dụng cụ', 'chứa', 'trung gian', 'nạp', 'vào', 'bình', 'chứa', 'mức độ', 'đầy', 'vơi', 'khi', 'nạp', 'mẫu', 'vào', 'bình', 'chứa', 'phải', 'căn cứ', 'vào', 'quy định', 'đối với', 'từng', 'loại', 'thông số', 'phân tích', 'với', 'những', 'bình mẫu', 'phải', 'cho', 'hóa chất', 'bảo quản', 'thì', 'chỉ', 'nạp', 'gần', 'đủ', 'rồi', 'thực hiện', 'bước nạp', 'hóa chất', 'bảo quản', 'mẫu', 'xử lý', 'mẫu', 'sơ bộ', 'bằng', 'hóa', 'chất', 'lọc', 'mẫu', 'trước', 'khi', 'nạp', 'nếu', 'yêu cầu', 'quy định', 'điểm', 'b', 'xử lý', 'mẫu', 'sơ bộ', 'bằng', 'hóa chất', 'những', 'mẫu', 'cần', 'phải', 'bảo quản', 'bằng', 'hóa chất', 'thì', 'thêm', 'loại', 'và', 'lượng', 'hóa chất', 'theo', 'quy định', 'trong', 'bảng', 'tsnt', 'thuộc', 'phụ lục', '02', 'ban hành', 'kèm', 'theo', 'thông tư', 'này', 'hoặc', 'theo', 'tiêu chuẩn', 'quốc gia', 'về', 'bảo quản', 'và', 'xử lý', 'mẫu', 'nước', 'hóa chất', 'thường', 'dùng', 'h2so4', '11', 'hno3', '11', 'hcl', '11', 'naoh', '10', 'm', 'ch3coo2zn', '10', 'sau', 'khi', 'thêm', 'đủ', 'lượng', 'hóa', 'chất nạp', 'bổ sung', 'lượng', 'nước thải', 'cho', 'đến', 'đủ', 'hoặc', 'đầy', 'như', 'quy định', 'thì', 'vặn', 'chặt', 'nút', 'bình', 'lật', 'ngược bình', 'chứa', 'mẫu', 'và', 'lắc', 'để', 'kiểm tra', 'độ', 'kín', 'của', 'nắp', 'bình', 'nếu', 'có', 'nước', 'rỉ', 'ra', 'ngoài', 'thì', 'phải', 'vặn', 'chặt', 'lại', 'lau', 'khô', 'lắc', 'kiểm tra', 'lần', 'nữa', 'nếu', 'nước', 'vẫn', 'rò rỉ', 'ra', 'ngoài', 'thì', 'phải', 'thay', 'bình chứa', 'khác', 'khi', 'thêm', 'hóa', 'chất', 'dạng', 'lỏng', 'không', 'được', 'quá', '05', 'ml', 'hóa', 'chất', 'cho', '01', 'lít', 'mẫu', 'để', 'đạt', 'tới', 'ph', '≤', '2', 'có thể', 'lấy', 'lượng', 'chính xác', 'theo', 'tỷ lệ', '4', 'ml', 'axit', '11', 'hay', '2', 'ml', 'axit', 'đậm đặc', 'cho', '01', 'lít', 'mẫu', 'end'], ['start', 'điều', '13', 'trình tự', 'thủ tục', 'đánh giá', 'khoản', '1', 'đối với', 'người quản lý', 'doanh nghiệp', 'nhà nước', 'điểm', 'a', 'người quản lý', 'doanh nghiệp', 'nhà nước', 'viết', 'bản', 'tự', 'nhận xét', 'đánh giá', 'theo', 'nội dung', 'tiêu chí', 'đánh giá', 'và', 'tự', 'nhận', 'mức độ', 'xếp', 'loại', 'chất lượng', 'điểm', 'b', 'hội đồng', 'thành viên', 'họp', 'nhận xét', 'đánh giá', 'đối với', 'người quản lý', 'doanh nghiệp', 'cuộc', 'họp', 'đánh giá', 'xếp', 'loại', 'chất lượng', 'được', 'ghi', 'thành', 'biên bản', 'trong', 'đó', 'nêu', 'rõ', 'thành phần', 'tham dự', 'các', 'ý kiến', 'tham gia', 'điểm', 'c', 'lấy', 'ý kiến', 'bằng', 'văn bản', 'về', 'đánh giá', 'xếp', 'loại', 'chất lượng', 'người quản lý', 'doanh nghiệp', 'của', 'cấp', 'ủy', 'cùng', 'cấp', 'điểm', 'd', 'trên', 'cơ sở', 'ý kiến', 'của', 'cấp', 'ủy', 'cùng', 'cấp', 'hội đồng', 'thành viên', 'hoặc', 'chủ tịch', 'công ty', 'xem xét', 'quyết định', 'đánh giá', 'xếp', 'loại', 'chất lượng', 'đối với', 'người quản lý', 'doanh nghiệp', 'theo', 'thẩm quyền', 'hoặc', 'báo cáo', 'kết quả', 'đánh giá', 'xếp', 'loại', 'chất lượng', 'chủ tịch', 'hội đồng', 'thành viên', 'thành viên', 'hội đồng', 'thành viên', 'chủ tịch', 'công ty', 'gửi', 'cơ quan', 'đại diện', 'chủ sở hữu', 'xem xét', 'quyết định', 'khoản', '2', 'đối với', 'kiểm soát viên', 'điểm', 'a', 'kiểm soát viên', 'viết', 'bản', 'tự', 'nhận xét', 'đánh giá', 'và', 'tự', 'nhận', 'mức độ', 'xếp', 'loại', 'chất lượng', 'gửi', 'đến', 'cơ quan', 'đại diện', 'chủ sở hữu điểm', 'b', 'căn cứ', 'vào', 'tiêu chí', 'đánh giá', 'xếp', 'loại', 'chất lượng', 'quy định', 'tại', 'nghị định', 'này', 'và', 'nhiệm vụ', 'được', 'giao', 'theo', 'kế hoạch', 'hàng', 'năm', 'cơ quan', 'đại diện', 'chủ sở hữu', 'xem xét', 'quyết định', 'mức', 'xếp', 'loại', 'chất lượng', 'đối với', 'kiểm soát viên', 'khoản', '3', 'đối với', 'người', 'đại diện', 'phần', 'vốn', 'nhà nước', 'điểm', 'a', 'người', 'đại diện', 'phần', 'vốn', 'nhà nước', 'viết', 'bản', 'tự', 'nhận xét', 'đánh giá', 'theo', 'nội dung', 'tiêu chí', 'đánh giá', 'và', 'tự', 'nhận', 'mức độ', 'xếp', 'loại', 'chất lượng', 'gửi', 'cơ quan', 'đại diện', 'chủ sở hữu điểm', 'b', 'cơ quan', 'đại diện', 'chủ sở hữu', 'lấy', 'ý kiến', 'nhận xét', 'đánh giá', 'của', 'hội đồng', 'thành viên', 'chủ tịch', 'công ty', 'hội đồng quản trị', 'đối với', 'người', 'đại diện', 'phần', 'vốn', 'nhà nước', 'nếu', 'cần', 'điểm', 'c', 'căn cứ', 'vào', 'tiêu chí', 'đánh giá', 'xếp', 'loại', 'chất lượng', 'quy định', 'tại', 'nghị định', 'này', 'và', 'nhiệm vụ', 'được', 'giao', 'theo', 'kế hoạch', 'hàng', 'năm', 'cơ quan', 'đại diện', 'chủ sở hữu', 'xem xét', 'quyết định', 'mức', 'xếp', 'loại', 'chất lượng', 'đối với', 'người', 'đại diện', 'phần', 'vốn', 'nhà nước', 'khoản', '4', 'kết quả', 'đánh giá', 'xếp', 'loại', 'chất lượng', 'được', 'lưu', 'vào', 'hồ sơ', 'và', 'thông báo', 'đến', 'từng', 'người quản lý', 'doanh nghiệp', 'nhà nước', 'kiểm soát viên', 'người', 'đại diện', 'phần', 'vốn', 'nhà nước', 'end']]\n"
     ]
    }
   ],
   "source": [
    "# Tokenization answer\n",
    "answers = [word_tokenize(ans) for ans in answers]\n",
    "print(len(answers))\n",
    "print(answers[:3])"
   ]
  },
  {
   "cell_type": "code",
   "execution_count": 18,
   "metadata": {
    "id": "QsR71gvjKC1-",
    "outputId": "c310b7db-031a-4bde-8aa7-c17160231259"
   },
   "outputs": [
    {
     "name": "stdout",
     "output_type": "stream",
     "text": [
      "VOCAB SIZE : 6413\n"
     ]
    }
   ],
   "source": [
    "tokenizer = Tokenizer()\n",
    "tokenizer.fit_on_texts(questions + answers)\n",
    "VOCAB_SIZE = len(tokenizer.word_index) + 2\n",
    "print( 'VOCAB SIZE : {}'.format( VOCAB_SIZE ))"
   ]
  },
  {
   "cell_type": "code",
   "execution_count": 19,
   "metadata": {
    "id": "xRrlh0_NLe5g"
   },
   "outputs": [],
   "source": [
    "word2idx = tokenizer.word_index"
   ]
  },
  {
   "cell_type": "code",
   "execution_count": 20,
   "metadata": {
    "id": "LRbibHDuKqY0",
    "outputId": "41a49e62-c8f8-4be8-ce03-857836309b14"
   },
   "outputs": [
    {
     "name": "stdout",
     "output_type": "stream",
     "text": [
      "Max length question: 26\n",
      "(1000, 26)\n"
     ]
    }
   ],
   "source": [
    "#encoder_input_data\n",
    "tokenized_questions = tokenizer.texts_to_sequences(questions)\n",
    "maxlen_questions = max([len(x) for x in tokenized_questions])\n",
    "padded_questions = pad_sequences(tokenized_questions, maxlen = maxlen_questions, padding = 'post')\n",
    "encoder_input_data = np.array(padded_questions)\n",
    "print(\"Max length question:\", maxlen_questions)\n",
    "print(encoder_input_data.shape)"
   ]
  },
  {
   "cell_type": "code",
   "execution_count": 21,
   "metadata": {
    "id": "FSuEOE4rLCzo",
    "outputId": "f82dabc2-6649-4901-a519-2fd974f86576"
   },
   "outputs": [
    {
     "name": "stdout",
     "output_type": "stream",
     "text": [
      "Max length anwser: 512\n",
      "(1000, 512)\n"
     ]
    }
   ],
   "source": [
    "# decoder_input_data\n",
    "tokenized_answers = tokenizer.texts_to_sequences(answers)\n",
    "# maxlen_answers = max([len(x) for x in tokenized_answers])'\n",
    "maxlen_answers = 512\n",
    "padded_answers = pad_sequences(tokenized_answers, maxlen = maxlen_answers, padding='post')\n",
    "decoder_input_data = np.array(padded_answers)\n",
    "print(\"Max length anwser:\", maxlen_answers)\n",
    "print(decoder_input_data.shape)"
   ]
  },
  {
   "cell_type": "code",
   "execution_count": 22,
   "metadata": {
    "id": "AEHXML0aLRx9",
    "outputId": "e52b5621-ed3c-4e65-8ab2-3c761d452a88"
   },
   "outputs": [
    {
     "name": "stdout",
     "output_type": "stream",
     "text": [
      "(1000, 512)\n"
     ]
    }
   ],
   "source": [
    "# decoder_output_data\n",
    "tokenized_answers = tokenizer.texts_to_sequences(answers)\n",
    "# Remove Start added before\n",
    "for i in range(len(tokenized_answers)):\n",
    "    tokenized_answers[i] = tokenized_answers[i][1:]\n",
    "padded_answers = pad_sequences(tokenized_answers, maxlen = maxlen_answers, padding='post')\n",
    "decoder_output_data = np.array(padded_answers)\n",
    "print(decoder_output_data.shape)"
   ]
  },
  {
   "cell_type": "markdown",
   "metadata": {
    "id": "XIRPpLBYyhwG"
   },
   "source": [
    "**Word2Vec Embedding with FastText**"
   ]
  },
  {
   "cell_type": "code",
   "execution_count": 23,
   "metadata": {
    "id": "cu2AjHISyhwG",
    "outputId": "929e0e18-939b-4db4-8e2e-1322a940e66f"
   },
   "outputs": [
    {
     "name": "stdout",
     "output_type": "stream",
     "text": [
      "FastText Loaded!\n"
     ]
    }
   ],
   "source": [
    "fastText_model = KeyedVectors.load_word2vec_format('/home/dattran/datadrive2/AI-project/vietnamese_chatbot_research/input/wiki-vi-vectors/wiki.vi.vec')\n",
    "print(\"FastText Loaded!\")"
   ]
  },
  {
   "cell_type": "code",
   "execution_count": 24,
   "metadata": {
    "id": "aqRqb_KYyhwG",
    "outputId": "deebd6d8-cdb1-4e2e-f49f-a866f76b2d6f"
   },
   "outputs": [
    {
     "name": "stdout",
     "output_type": "stream",
     "text": [
      "(6413, 300)\n"
     ]
    }
   ],
   "source": [
    "embeddings_dim = 300\n",
    "\n",
    "embedding_matrix = np.zeros((VOCAB_SIZE, embeddings_dim))\n",
    "\n",
    "for word, index in word2idx.items():\n",
    "    try:\n",
    "        embedding_matrix[index,:] = fastText_model[word]\n",
    "    except:\n",
    "        continue\n",
    "        \n",
    "print(embedding_matrix.shape)"
   ]
  },
  {
   "cell_type": "markdown",
   "metadata": {},
   "source": [
    "## Transformer Structure"
   ]
  },
  {
   "attachments": {
    "2add99b3-0a0d-4d7f-96c9-bbe39432d69a.png": {
     "image/png": "[encoded data removed]"
    }
   },
   "cell_type": "markdown",
   "metadata": {},
   "source": [
    "![image.png](attachment:2add99b3-0a0d-4d7f-96c9-bbe39432d69a.png)"
   ]
  },
  {
   "cell_type": "markdown",
   "metadata": {},
   "source": [
    "Ta có thể thấy lớp Encoder gồm N khối (ta tạm gọi là EncoderLayer). Và đầu ra của N khối này sẽ được nối sang bên Decoder. Tương tự với đó là bên Decoder cũng chứa N khối DecoderLayer. "
   ]
  },
  {
   "cell_type": "markdown",
   "metadata": {},
   "source": [
    "### Encoder:\n",
    "- Gồm lớp Embedding, Positional Encoding và các lớp Encoder \n",
    "## Lớp Encoder:\n",
    "- Gồm lớp Multi-Head Attention, 2 lớp Add & Norm và 1 mạng Feed Forward\n",
    "\n",
    "### Decoder:\n",
    "- Gồm lớp Embedding, Positional Encoding và các lớp Decoder \n",
    "## Lớp Encoder:\n",
    "- Gồm lớp 3 khối:\n",
    " + Masked Multi-Head Attention, 1 lớp Add & Norm \n",
    " + Multi-Head Attention nhận 2 ma trận K,V từ lớp encoder, 1 lớp Add & Norm \n",
    " + 1 mạng Feed Forward và 1 lớp Add & Norm \n",
    " \n",
    "### Đi qua một mạng Linear và Softmax để có được output"
   ]
  },
  {
   "cell_type": "markdown",
   "metadata": {
    "id": "GMCTx2fdyhwG"
   },
   "source": [
    "# Model Defination"
   ]
  },
  {
   "cell_type": "markdown",
   "metadata": {},
   "source": [
    "## Attension"
   ]
  },
  {
   "cell_type": "code",
   "execution_count": 25,
   "metadata": {},
   "outputs": [],
   "source": [
    "def scaled_dot_product_attention(query, key, value, mask):\n",
    "  \"\"\"Calculate the attention weights. \"\"\"\n",
    "  matmul_qk = tf.matmul(query, key, transpose_b=True)\n",
    "\n",
    "  # scale matmul_qk\n",
    "  depth = tf.cast(tf.shape(key)[-1], tf.float32)\n",
    "  logits = matmul_qk / tf.math.sqrt(depth)\n",
    "\n",
    "  # add the mask to zero out padding tokens\n",
    "  if mask is not None:\n",
    "    logits += (mask * -1e9)\n",
    "\n",
    "  # softmax is normalized on the last axis (seq_len_k)\n",
    "  attention_weights = tf.nn.softmax(logits, axis=-1)\n",
    "\n",
    "  output = tf.matmul(attention_weights, value)\n",
    "\n",
    "  return output"
   ]
  },
  {
   "cell_type": "code",
   "execution_count": 26,
   "metadata": {},
   "outputs": [],
   "source": [
    "class MultiHeadAttention(tf.keras.layers.Layer):\n",
    "\n",
    "  def __init__(self, d_model, num_heads, name=\"multi_head_attention\"):\n",
    "    super(MultiHeadAttention, self).__init__(name=name)\n",
    "    self.num_heads = num_heads\n",
    "    self.d_model = d_model\n",
    "\n",
    "    assert d_model % self.num_heads == 0\n",
    "\n",
    "    self.depth = d_model // self.num_heads\n",
    "\n",
    "    self.query_dense = tf.keras.layers.Dense(units=d_model)\n",
    "    self.key_dense = tf.keras.layers.Dense(units=d_model)\n",
    "    self.value_dense = tf.keras.layers.Dense(units=d_model)\n",
    "\n",
    "    self.dense = tf.keras.layers.Dense(units=d_model)\n",
    "\n",
    "  def split_heads(self, inputs, batch_size):\n",
    "    inputs = tf.reshape(\n",
    "        inputs, shape=(batch_size, -1, self.num_heads, self.depth))\n",
    "    return tf.transpose(inputs, perm=[0, 2, 1, 3])\n",
    "\n",
    "  def call(self, inputs):\n",
    "    query, key, value, mask = inputs['query'], inputs['key'], inputs[\n",
    "        'value'], inputs['mask']\n",
    "    batch_size = tf.shape(query)[0]\n",
    "\n",
    "    # linear layers\n",
    "    query = self.query_dense(query)\n",
    "    key = self.key_dense(key)\n",
    "    value = self.value_dense(value)\n",
    "\n",
    "    # split heads\n",
    "    query = self.split_heads(query, batch_size)\n",
    "    key = self.split_heads(key, batch_size)\n",
    "    value = self.split_heads(value, batch_size)\n",
    "\n",
    "    # scaled dot-product attention\n",
    "    scaled_attention = scaled_dot_product_attention(query, key, value, mask)\n",
    "\n",
    "    scaled_attention = tf.transpose(scaled_attention, perm=[0, 2, 1, 3])\n",
    "\n",
    "    # concatenation of heads\n",
    "    concat_attention = tf.reshape(scaled_attention,\n",
    "                                  (batch_size, -1, self.d_model))\n",
    "\n",
    "    # final linear layer\n",
    "    outputs = self.dense(concat_attention)\n",
    "\n",
    "    return outputs"
   ]
  },
  {
   "cell_type": "markdown",
   "metadata": {},
   "source": [
    "### Masking"
   ]
  },
  {
   "cell_type": "code",
   "execution_count": 27,
   "metadata": {},
   "outputs": [],
   "source": [
    "def create_padding_mask(x):\n",
    "  mask = tf.cast(tf.math.equal(x, 0), tf.float32)\n",
    "  # (batch_size, 1, 1, sequence length)\n",
    "  return mask[:, tf.newaxis, tf.newaxis, :]"
   ]
  },
  {
   "cell_type": "code",
   "execution_count": 28,
   "metadata": {},
   "outputs": [],
   "source": [
    "def create_look_ahead_mask(x):\n",
    "  seq_len = tf.shape(x)[1]\n",
    "  look_ahead_mask = 1 - tf.linalg.band_part(tf.ones((seq_len, seq_len)), -1, 0)\n",
    "  padding_mask = create_padding_mask(x)\n",
    "  return tf.maximum(look_ahead_mask, padding_mask)"
   ]
  },
  {
   "cell_type": "markdown",
   "metadata": {},
   "source": [
    "## Positional Encoding"
   ]
  },
  {
   "cell_type": "code",
   "execution_count": 29,
   "metadata": {},
   "outputs": [],
   "source": [
    "class PositionalEncoding(tf.keras.layers.Layer):\n",
    "\n",
    "  def __init__(self, position, d_model):\n",
    "    super(PositionalEncoding, self).__init__()\n",
    "    self.pos_encoding = self.positional_encoding(position, d_model)\n",
    "\n",
    "  def get_angles(self, position, i, d_model):\n",
    "    angles = 1 / tf.pow(10000, (2 * (i // 2)) / tf.cast(d_model, tf.float32))\n",
    "    return position * angles\n",
    "\n",
    "  def positional_encoding(self, position, d_model):\n",
    "    angle_rads = self.get_angles(\n",
    "        position=tf.range(position, dtype=tf.float32)[:, tf.newaxis],\n",
    "        i=tf.range(d_model, dtype=tf.float32)[tf.newaxis, :],\n",
    "        d_model=d_model)\n",
    "    # apply sin to even index in the array\n",
    "    sines = tf.math.sin(angle_rads[:, 0::2])\n",
    "    # apply cos to odd index in the array\n",
    "    cosines = tf.math.cos(angle_rads[:, 1::2])\n",
    "\n",
    "    pos_encoding = tf.concat([sines, cosines], axis=-1)\n",
    "    pos_encoding = pos_encoding[tf.newaxis, ...]\n",
    "    return tf.cast(pos_encoding, tf.float32)\n",
    "\n",
    "  def call(self, inputs):\n",
    "    return inputs + self.pos_encoding[:, :tf.shape(inputs)[1], :]"
   ]
  },
  {
   "cell_type": "markdown",
   "metadata": {},
   "source": [
    "## Encoder Layer"
   ]
  },
  {
   "cell_type": "code",
   "execution_count": 30,
   "metadata": {},
   "outputs": [],
   "source": [
    "def encoder_layer(units, d_model, num_heads, dropout, name=\"encoder_layer\"):\n",
    "  inputs = tf.keras.Input(shape=(None, d_model), name=\"inputs\")\n",
    "  padding_mask = tf.keras.Input(shape=(1, 1, None), name=\"padding_mask\")\n",
    "\n",
    "  attention = MultiHeadAttention(\n",
    "      d_model, num_heads, name=\"attention\")({\n",
    "          'query': inputs,\n",
    "          'key': inputs,\n",
    "          'value': inputs,\n",
    "          'mask': padding_mask\n",
    "      })\n",
    "  attention = tf.keras.layers.Dropout(rate=dropout)(attention)\n",
    "  attention = tf.keras.layers.LayerNormalization(\n",
    "      epsilon=1e-6)(inputs + attention)\n",
    "\n",
    "  outputs = tf.keras.layers.Dense(units=units, activation='relu')(attention)\n",
    "  outputs = tf.keras.layers.Dense(units=d_model)(outputs)\n",
    "  outputs = tf.keras.layers.Dropout(rate=dropout)(outputs)\n",
    "  outputs = tf.keras.layers.LayerNormalization(\n",
    "      epsilon=1e-6)(attention + outputs)\n",
    "\n",
    "  return tf.keras.Model(\n",
    "      inputs=[inputs, padding_mask], outputs=outputs, name=name)"
   ]
  },
  {
   "cell_type": "markdown",
   "metadata": {},
   "source": [
    "## Encoder"
   ]
  },
  {
   "cell_type": "code",
   "execution_count": 31,
   "metadata": {},
   "outputs": [],
   "source": [
    "def encoder(vocab_size,\n",
    "            num_layers,\n",
    "            units,\n",
    "            d_model,\n",
    "            num_heads,\n",
    "            dropout,\n",
    "            name=\"encoder\"):\n",
    "  inputs = tf.keras.Input(shape=(None,), name=\"inputs\")\n",
    "  padding_mask = tf.keras.Input(shape=(1, 1, None), name=\"padding_mask\")\n",
    "\n",
    "  embeddings = tf.keras.layers.Embedding(vocab_size,d_model\n",
    "                                     ,input_length=maxlen_questions\n",
    "                                     ,weights = [embedding_matrix]\n",
    "                                     ,trainable=False)(inputs)\n",
    "  embeddings *= tf.math.sqrt(tf.cast(d_model, tf.float32))\n",
    "  embeddings = PositionalEncoding(vocab_size, d_model)(embeddings)\n",
    "\n",
    "  outputs = tf.keras.layers.Dropout(rate=dropout)(embeddings)\n",
    "\n",
    "  for i in range(num_layers):\n",
    "    outputs = encoder_layer(\n",
    "        units=units,\n",
    "        d_model=d_model,\n",
    "        num_heads=num_heads,\n",
    "        dropout=dropout,\n",
    "        name=\"encoder_layer_{}\".format(i),\n",
    "    )([outputs, padding_mask])\n",
    "\n",
    "  return tf.keras.Model(\n",
    "      inputs=[inputs, padding_mask], outputs=outputs, name=name)"
   ]
  },
  {
   "cell_type": "markdown",
   "metadata": {},
   "source": [
    "## Decoder Layer"
   ]
  },
  {
   "cell_type": "code",
   "execution_count": 32,
   "metadata": {},
   "outputs": [],
   "source": [
    "def decoder_layer(units, d_model, num_heads, dropout, name=\"decoder_layer\"):\n",
    "  inputs = tf.keras.Input(shape=(None, d_model), name=\"inputs\")\n",
    "  enc_outputs = tf.keras.Input(shape=(None, d_model), name=\"encoder_outputs\")\n",
    "  look_ahead_mask = tf.keras.Input(\n",
    "      shape=(1, None, None), name=\"look_ahead_mask\")\n",
    "  padding_mask = tf.keras.Input(shape=(1, 1, None), name='padding_mask')\n",
    "\n",
    "  attention1 = MultiHeadAttention(\n",
    "      d_model, num_heads, name=\"attention_1\")(inputs={\n",
    "          'query': inputs,\n",
    "          'key': inputs,\n",
    "          'value': inputs,\n",
    "          'mask': look_ahead_mask\n",
    "      })\n",
    "  attention1 = tf.keras.layers.LayerNormalization(\n",
    "      epsilon=1e-6)(attention1 + inputs)\n",
    "\n",
    "  attention2 = MultiHeadAttention(\n",
    "      d_model, num_heads, name=\"attention_2\")(inputs={\n",
    "          'query': attention1,\n",
    "          'key': enc_outputs,\n",
    "          'value': enc_outputs,\n",
    "          'mask': padding_mask\n",
    "      })\n",
    "  attention2 = tf.keras.layers.Dropout(rate=dropout)(attention2)\n",
    "  attention2 = tf.keras.layers.LayerNormalization(\n",
    "      epsilon=1e-6)(attention2 + attention1)\n",
    "\n",
    "  outputs = tf.keras.layers.Dense(units=units, activation='relu')(attention2)\n",
    "  outputs = tf.keras.layers.Dense(units=d_model)(outputs)\n",
    "  outputs = tf.keras.layers.Dropout(rate=dropout)(outputs)\n",
    "  outputs = tf.keras.layers.LayerNormalization(\n",
    "      epsilon=1e-6)(outputs + attention2)\n",
    "\n",
    "  return tf.keras.Model(\n",
    "      inputs=[inputs, enc_outputs, look_ahead_mask, padding_mask],\n",
    "      outputs=outputs,\n",
    "      name=name)"
   ]
  },
  {
   "cell_type": "markdown",
   "metadata": {},
   "source": [
    "## Decoder"
   ]
  },
  {
   "cell_type": "code",
   "execution_count": 33,
   "metadata": {},
   "outputs": [],
   "source": [
    "def decoder(vocab_size,\n",
    "            num_layers,\n",
    "            units,\n",
    "            d_model,\n",
    "            num_heads,\n",
    "            dropout,\n",
    "            name='decoder'):\n",
    "  inputs = tf.keras.Input(shape=(None,), name='inputs')\n",
    "  enc_outputs = tf.keras.Input(shape=(None, d_model), name='encoder_outputs')\n",
    "  look_ahead_mask = tf.keras.Input(\n",
    "      shape=(1, None, None), name='look_ahead_mask')\n",
    "  padding_mask = tf.keras.Input(shape=(1, 1, None), name='padding_mask')\n",
    "  \n",
    "\n",
    "  embeddings = tf.keras.layers.Embedding(vocab_size,d_model\n",
    "                                     ,input_length=maxlen_answers\n",
    "                                     ,weights = [embedding_matrix]\n",
    "                                     ,trainable=False)(inputs)\n",
    "  embeddings *= tf.math.sqrt(tf.cast(d_model, tf.float32))\n",
    "  embeddings = PositionalEncoding(vocab_size, d_model)(embeddings)\n",
    "\n",
    "  outputs = tf.keras.layers.Dropout(rate=dropout)(embeddings)\n",
    "\n",
    "  for i in range(num_layers):\n",
    "    outputs = decoder_layer(\n",
    "        units=units,\n",
    "        d_model=d_model,\n",
    "        num_heads=num_heads,\n",
    "        dropout=dropout,\n",
    "        name='decoder_layer_{}'.format(i),\n",
    "    )(inputs=[outputs, enc_outputs, look_ahead_mask, padding_mask])\n",
    "\n",
    "  return tf.keras.Model(\n",
    "      inputs=[inputs, enc_outputs, look_ahead_mask, padding_mask],\n",
    "      outputs=outputs,\n",
    "      name=name)"
   ]
  },
  {
   "cell_type": "markdown",
   "metadata": {},
   "source": [
    "## Transformer"
   ]
  },
  {
   "cell_type": "code",
   "execution_count": 34,
   "metadata": {},
   "outputs": [],
   "source": [
    "def transformer(vocab_size,\n",
    "                num_layers,\n",
    "                units,\n",
    "                d_model,\n",
    "                num_heads,\n",
    "                dropout,\n",
    "                name=\"transformer\"):\n",
    "  inputs = tf.keras.Input(shape=(None,), name=\"inputs\")\n",
    "  dec_inputs = tf.keras.Input(shape=(None,), name=\"dec_inputs\")\n",
    "\n",
    "  enc_padding_mask = tf.keras.layers.Lambda(\n",
    "      create_padding_mask, output_shape=(1, 1, None),\n",
    "      name='enc_padding_mask')(inputs)\n",
    "  # mask the future tokens for decoder inputs at the 1st attention block\n",
    "  look_ahead_mask = tf.keras.layers.Lambda(\n",
    "      create_look_ahead_mask,\n",
    "      output_shape=(1, None, None),\n",
    "      name='look_ahead_mask')(dec_inputs)\n",
    "  # mask the encoder outputs for the 2nd attention block\n",
    "  dec_padding_mask = tf.keras.layers.Lambda(\n",
    "      create_padding_mask, output_shape=(1, 1, None),\n",
    "      name='dec_padding_mask')(inputs)\n",
    "\n",
    "  enc_outputs = encoder(\n",
    "      vocab_size=vocab_size,\n",
    "      num_layers=num_layers,\n",
    "      units=units,\n",
    "      d_model=d_model,\n",
    "      num_heads=num_heads,\n",
    "      dropout=dropout,\n",
    "  )(inputs=[inputs, enc_padding_mask])\n",
    "\n",
    "  dec_outputs = decoder(\n",
    "      vocab_size=vocab_size,\n",
    "      num_layers=num_layers,\n",
    "      units=units,\n",
    "      d_model=d_model,\n",
    "      num_heads=num_heads,\n",
    "      dropout=dropout,\n",
    "  )(inputs=[dec_inputs, enc_outputs, look_ahead_mask, dec_padding_mask])\n",
    "\n",
    "  outputs = tf.keras.layers.Dense(units=vocab_size)(dec_outputs)\n",
    "  #Add a softmax layer to get probability distribution of word in vocab\n",
    "  outputs = tf.keras.layers.Dense(units=vocab_size, activation = 'softmax',name = \"outputs\")(outputs)\n",
    "\n",
    "\n",
    "  return tf.keras.Model(inputs=[inputs, dec_inputs], outputs=outputs, name=name)"
   ]
  },
  {
   "cell_type": "code",
   "execution_count": 35,
   "metadata": {},
   "outputs": [],
   "source": [
    "tf.keras.backend.clear_session()\n",
    "\n",
    "# Hyper-parameters\n",
    "NUM_LAYERS = 2\n",
    "NUM_HEADS = 6 # model dims must divided to number of heads\n",
    "UNITS = 512\n",
    "DROPOUT = 0.1"
   ]
  },
  {
   "cell_type": "code",
   "execution_count": 36,
   "metadata": {},
   "outputs": [
    {
     "name": "stderr",
     "output_type": "stream",
     "text": [
      "2023-11-07 02:23:29.155203: I tensorflow/core/common_runtime/gpu/gpu_device.cc:1886] Created device /job:localhost/replica:0/task:0/device:GPU:0 with 9222 MB memory:  -> device: 0, name: Tesla T4, pci bus id: 0001:00:00.0, compute capability: 7.5\n"
     ]
    }
   ],
   "source": [
    "# Define the model\n",
    "# VOCAB_SIZE = 3827\n",
    "# embeddings_dim = 300\n",
    "model = transformer(\n",
    "    vocab_size=VOCAB_SIZE,\n",
    "    num_layers=NUM_LAYERS,\n",
    "    units=UNITS,\n",
    "    d_model=embeddings_dim,\n",
    "    num_heads=NUM_HEADS,\n",
    "    dropout=DROPOUT)"
   ]
  },
  {
   "cell_type": "code",
   "execution_count": 37,
   "metadata": {},
   "outputs": [
    {
     "name": "stdout",
     "output_type": "stream",
     "text": [
      "Model: \"transformer\"\n",
      "__________________________________________________________________________________________________\n",
      " Layer (type)                Output Shape                 Param #   Connected to                  \n",
      "==================================================================================================\n",
      " inputs (InputLayer)         [(None, None)]               0         []                            \n",
      "                                                                                                  \n",
      " dec_inputs (InputLayer)     [(None, None)]               0         []                            \n",
      "                                                                                                  \n",
      " enc_padding_mask (Lambda)   (None, 1, 1, None)           0         ['inputs[0][0]']              \n",
      "                                                                                                  \n",
      " encoder (Functional)        (None, None, 300)            3264724   ['inputs[0][0]',              \n",
      "                                                                     'enc_padding_mask[0][0]']    \n",
      "                                                                                                  \n",
      " look_ahead_mask (Lambda)    (None, 1, None, None)        0         ['dec_inputs[0][0]']          \n",
      "                                                                                                  \n",
      " dec_padding_mask (Lambda)   (None, 1, 1, None)           0         ['inputs[0][0]']              \n",
      "                                                                                                  \n",
      " decoder (Functional)        (None, None, 300)            3988324   ['dec_inputs[0][0]',          \n",
      "                                                                     'encoder[0][0]',             \n",
      "                                                                     'look_ahead_mask[0][0]',     \n",
      "                                                                     'dec_padding_mask[0][0]']    \n",
      "                                                                                                  \n",
      " dense_32 (Dense)            (None, None, 6413)           1930313   ['decoder[0][0]']             \n",
      "                                                                                                  \n",
      " outputs (Dense)             (None, None, 6413)           4113298   ['dense_32[0][0]']            \n",
      "                                                          2                                       \n",
      "                                                                                                  \n",
      "==================================================================================================\n",
      "Total params: 50316343 (191.94 MB)\n",
      "Trainable params: 46468543 (177.26 MB)\n",
      "Non-trainable params: 3847800 (14.68 MB)\n",
      "__________________________________________________________________________________________________\n"
     ]
    }
   ],
   "source": [
    "model.summary()"
   ]
  },
  {
   "cell_type": "markdown",
   "metadata": {},
   "source": [
    "## Define Loss Function"
   ]
  },
  {
   "cell_type": "code",
   "execution_count": 38,
   "metadata": {},
   "outputs": [],
   "source": [
    "def loss_function(y_true, y_pred):\n",
    "  y_true = tf.reshape(y_true, shape=(-1, maxlen_answers))\n",
    "  \n",
    "  loss = tf.keras.losses.SparseCategoricalCrossentropy(\n",
    "      from_logits=True, reduction='none')(y_true, y_pred)\n",
    "\n",
    "  mask = tf.cast(tf.not_equal(y_true, 0), tf.float32)\n",
    "  loss = tf.multiply(loss, mask)\n",
    "\n",
    "  return tf.reduce_mean(loss)"
   ]
  },
  {
   "cell_type": "markdown",
   "metadata": {},
   "source": [
    "## Optimizer with custom learning rate"
   ]
  },
  {
   "cell_type": "code",
   "execution_count": 39,
   "metadata": {},
   "outputs": [],
   "source": [
    "# class CustomSchedule(tf.keras.optimizers.schedules.LearningRateSchedule):\n",
    "\n",
    "#   def __init__(self, d_model, warmup_steps=2000):\n",
    "#     super(CustomSchedule, self).__init__()\n",
    "\n",
    "#     self.d_model = d_model\n",
    "#     self.d_model = tf.cast(self.d_model, tf.float32)\n",
    "\n",
    "#     self.warmup_steps = warmup_steps\n",
    "\n",
    "#   def __call__(self, step):\n",
    "#     arg1 = tf.math.rsqrt(step)\n",
    "#     arg2 = step * (self.warmup_steps**-1.5)\n",
    "\n",
    "#     return tf.math.rsqrt(self.d_model) * tf.math.minimum(arg1, arg2)\n",
    "class CustomSchedule(tf.keras.optimizers.schedules.LearningRateSchedule):\n",
    "    def __init__(self, d_model, warmup_steps=2000):\n",
    "        super(CustomSchedule, self).__init__()\n",
    "        self.d_model = tf.cast(d_model, tf.float32)  # Cast d_model to float32\n",
    "        self.warmup_steps = warmup_steps\n",
    "\n",
    "    def __call__(self, step):\n",
    "        step = tf.cast(step, tf.float32)  # Cast step to float32\n",
    "        arg1 = tf.math.rsqrt(step)\n",
    "        arg2 = step * (self.warmup_steps**-1.5)\n",
    "        return tf.math.rsqrt(self.d_model) * tf.math.minimum(arg1, arg2)\n"
   ]
  },
  {
   "cell_type": "code",
   "execution_count": 40,
   "metadata": {},
   "outputs": [],
   "source": [
    "learning_rate = CustomSchedule(embeddings_dim)\n",
    "\n",
    "optimizer = tf.keras.optimizers.Adam(\n",
    "    learning_rate, beta_1=0.9, beta_2=0.98, epsilon=1e-9)\n"
   ]
  },
  {
   "cell_type": "code",
   "execution_count": 41,
   "metadata": {},
   "outputs": [],
   "source": [
    "from tensorflow.keras.callbacks import TensorBoard, ModelCheckpoint, Callback"
   ]
  },
  {
   "cell_type": "code",
   "execution_count": 43,
   "metadata": {},
   "outputs": [],
   "source": [
    "class CustomModelCheckpoint(Callback):\n",
    "    def __init__(self, filepath, save_frequency):\n",
    "        super(CustomModelCheckpoint, self).__init__()\n",
    "        self.filepath = filepath\n",
    "        self.save_frequency = save_frequency\n",
    "\n",
    "    def on_epoch_end(self, epoch, logs=None):\n",
    "        if (epoch + 1) % self.save_frequency == 0:\n",
    "            self.model.save_weights(self.filepath.format(epoch=epoch + 1), overwrite=True)\n",
    "            print(f\"Saved model weights for epoch {epoch + 1}.\")"
   ]
  },
  {
   "cell_type": "code",
   "execution_count": 44,
   "metadata": {},
   "outputs": [
    {
     "name": "stdout",
     "output_type": "stream",
     "text": [
      "Save dir:  checkpoints/laws_{epoch}.h5\n",
      "Save_frequency:  100\n"
     ]
    }
   ],
   "source": [
    "\n",
    "tensorboard_callback = TensorBoard(log_dir=\"./logs/laws\", histogram_freq=1)\n",
    "\n",
    "root_batch_path = \"checkpoints\"\n",
    "checkpoint_name = \"laws\"\n",
    "save_frequency = 100\n",
    "checkpoint_filepath = f\"{root_batch_path}/{checkpoint_name}_{{epoch}}.h5\"\n",
    "print(\"Save dir: \", checkpoint_filepath)\n",
    "print(\"Save_frequency: \",int(save_frequency))\n",
    "custom_checkpoint_callback = CustomModelCheckpoint(filepath=checkpoint_filepath, save_frequency=int(save_frequency))"
   ]
  },
  {
   "cell_type": "markdown",
   "metadata": {},
   "source": [
    "## Compile the model"
   ]
  },
  {
   "cell_type": "code",
   "execution_count": 45,
   "metadata": {},
   "outputs": [],
   "source": [
    "def accuracy(y_true, y_pred):\n",
    "  y_true = tf.reshape(y_true, shape=(-1, maxlen_answers))\n",
    "  return tf.keras.metrics.sparse_categorical_accuracy(y_true, y_pred)"
   ]
  },
  {
   "cell_type": "code",
   "execution_count": 46,
   "metadata": {},
   "outputs": [],
   "source": [
    "model.load_weights('/home/dattran/datadrive2/AI-project/vietnamese_chatbot_research/research/checkpoints/laws_500.h5')"
   ]
  },
  {
   "cell_type": "code",
   "execution_count": 47,
   "metadata": {},
   "outputs": [],
   "source": [
    "model.compile(optimizer=optimizer, loss=loss_function, metrics=[accuracy])"
   ]
  },
  {
   "cell_type": "code",
   "execution_count": 48,
   "metadata": {
    "scrolled": true
   },
   "outputs": [
    {
     "name": "stdout",
     "output_type": "stream",
     "text": [
      "Epoch 1/1000\n"
     ]
    },
    {
     "name": "stderr",
     "output_type": "stream",
     "text": [
      "2023-11-07 02:24:05.142561: I tensorflow/compiler/xla/service/service.cc:168] XLA service 0x7f5e4030c940 initialized for platform CUDA (this does not guarantee that XLA will be used). Devices:\n",
      "2023-11-07 02:24:05.142587: I tensorflow/compiler/xla/service/service.cc:176]   StreamExecutor device (0): Tesla T4, Compute Capability 7.5\n",
      "2023-11-07 02:24:05.147715: I tensorflow/compiler/mlir/tensorflow/utils/dump_mlir_util.cc:269] disabling MLIR crash reproducer, set env var `MLIR_CRASH_REPRODUCER_DIRECTORY` to enable.\n",
      "2023-11-07 02:24:05.268202: I tensorflow/compiler/xla/stream_executor/cuda/cuda_dnn.cc:442] Loaded cuDNN version 8903\n",
      "2023-11-07 02:24:05.352013: I ./tensorflow/compiler/jit/device_compiler.h:186] Compiled cluster using XLA!  This line is logged at most once for the lifetime of the process.\n"
     ]
    },
    {
     "name": "stdout",
     "output_type": "stream",
     "text": [
      " 6/63 [=>............................] - ETA: 35s - loss: 0.1004 - accuracy: 0.5247WARNING:tensorflow:Callback method `on_train_batch_end` is slow compared to the batch time (batch time: 0.2591s vs `on_train_batch_end` time: 0.3227s). Check your callbacks.\n",
      "63/63 [==============================] - ETA: 0s - loss: 0.1150 - accuracy: 0.4775"
     ]
    },
    {
     "name": "stderr",
     "output_type": "stream",
     "text": [
      "2023-11-07 02:24:50.001603: W tensorflow/tsl/framework/cpu_allocator_impl.cc:83] Allocation of 9870376560 exceeds 10% of free system memory.\n"
     ]
    },
    {
     "name": "stdout",
     "output_type": "stream",
     "text": [
      "63/63 [==============================] - 56s 665ms/step - loss: 0.1150 - accuracy: 0.4775\n",
      "Epoch 2/1000\n",
      "63/63 [==============================] - ETA: 0s - loss: 0.1031 - accuracy: 0.4809"
     ]
    },
    {
     "name": "stderr",
     "output_type": "stream",
     "text": [
      "2023-11-07 02:25:33.187550: W tensorflow/tsl/framework/cpu_allocator_impl.cc:83] Allocation of 9870376560 exceeds 10% of free system memory.\n"
     ]
    },
    {
     "name": "stdout",
     "output_type": "stream",
     "text": [
      "63/63 [==============================] - 43s 686ms/step - loss: 0.1031 - accuracy: 0.4809\n",
      "Epoch 3/1000\n",
      "63/63 [==============================] - ETA: 0s - loss: 0.0958 - accuracy: 0.4830"
     ]
    },
    {
     "name": "stderr",
     "output_type": "stream",
     "text": [
      "2023-11-07 02:26:17.222649: W tensorflow/tsl/framework/cpu_allocator_impl.cc:83] Allocation of 9870376560 exceeds 10% of free system memory.\n"
     ]
    },
    {
     "name": "stdout",
     "output_type": "stream",
     "text": [
      "63/63 [==============================] - 44s 698ms/step - loss: 0.0958 - accuracy: 0.4830\n",
      "Epoch 4/1000\n",
      "63/63 [==============================] - ETA: 0s - loss: 0.0927 - accuracy: 0.4839"
     ]
    },
    {
     "name": "stderr",
     "output_type": "stream",
     "text": [
      "2023-11-07 02:27:01.810608: W tensorflow/tsl/framework/cpu_allocator_impl.cc:83] Allocation of 9870376560 exceeds 10% of free system memory.\n"
     ]
    },
    {
     "name": "stdout",
     "output_type": "stream",
     "text": [
      "63/63 [==============================] - 45s 709ms/step - loss: 0.0927 - accuracy: 0.4839\n",
      "Epoch 5/1000\n",
      "63/63 [==============================] - ETA: 0s - loss: 0.0952 - accuracy: 0.4831"
     ]
    },
    {
     "name": "stderr",
     "output_type": "stream",
     "text": [
      "2023-11-07 02:27:47.094441: W tensorflow/tsl/framework/cpu_allocator_impl.cc:83] Allocation of 9870376560 exceeds 10% of free system memory.\n"
     ]
    },
    {
     "name": "stdout",
     "output_type": "stream",
     "text": [
      "63/63 [==============================] - 45s 720ms/step - loss: 0.0952 - accuracy: 0.4831\n",
      "Epoch 6/1000\n",
      "63/63 [==============================] - 46s 725ms/step - loss: 0.1003 - accuracy: 0.4814\n",
      "Epoch 7/1000\n",
      "63/63 [==============================] - 46s 728ms/step - loss: 0.1066 - accuracy: 0.4797\n",
      "Epoch 8/1000\n",
      "63/63 [==============================] - 46s 730ms/step - loss: 0.1127 - accuracy: 0.4782\n",
      "Epoch 9/1000\n",
      "63/63 [==============================] - 46s 731ms/step - loss: 0.1182 - accuracy: 0.4760\n",
      "Epoch 10/1000\n",
      "63/63 [==============================] - 46s 729ms/step - loss: 0.1286 - accuracy: 0.4732\n",
      "Epoch 11/1000\n",
      "63/63 [==============================] - 46s 729ms/step - loss: 0.1355 - accuracy: 0.4716\n",
      "Epoch 12/1000\n",
      "63/63 [==============================] - 46s 730ms/step - loss: 0.1447 - accuracy: 0.4688\n",
      "Epoch 13/1000\n",
      "63/63 [==============================] - 46s 733ms/step - loss: 0.1526 - accuracy: 0.4664\n",
      "Epoch 14/1000\n",
      "63/63 [==============================] - 46s 734ms/step - loss: 0.1633 - accuracy: 0.4640\n",
      "Epoch 15/1000\n",
      "63/63 [==============================] - 46s 735ms/step - loss: 0.1705 - accuracy: 0.4616\n",
      "Epoch 16/1000\n",
      "63/63 [==============================] - 46s 732ms/step - loss: 0.1855 - accuracy: 0.4576\n",
      "Epoch 17/1000\n",
      "63/63 [==============================] - 46s 734ms/step - loss: 0.1946 - accuracy: 0.4550\n",
      "Epoch 18/1000\n",
      "63/63 [==============================] - 46s 733ms/step - loss: 0.2041 - accuracy: 0.4526\n",
      "Epoch 19/1000\n",
      "63/63 [==============================] - 46s 733ms/step - loss: 0.2171 - accuracy: 0.4484\n",
      "Epoch 20/1000\n",
      "63/63 [==============================] - 46s 732ms/step - loss: 0.2269 - accuracy: 0.4465\n",
      "Epoch 21/1000\n",
      "63/63 [==============================] - 46s 734ms/step - loss: 0.2367 - accuracy: 0.4437\n",
      "Epoch 22/1000\n",
      "63/63 [==============================] - 46s 736ms/step - loss: 0.2486 - accuracy: 0.4403\n",
      "Epoch 23/1000\n",
      "63/63 [==============================] - 46s 734ms/step - loss: 0.2542 - accuracy: 0.4386\n",
      "Epoch 24/1000\n",
      "63/63 [==============================] - 46s 731ms/step - loss: 0.2719 - accuracy: 0.4346\n",
      "Epoch 25/1000\n",
      "63/63 [==============================] - 46s 732ms/step - loss: 0.2823 - accuracy: 0.4316\n",
      "Epoch 26/1000\n",
      "63/63 [==============================] - 46s 737ms/step - loss: 0.2904 - accuracy: 0.4297\n",
      "Epoch 27/1000\n",
      "63/63 [==============================] - 47s 743ms/step - loss: 0.3013 - accuracy: 0.4269\n",
      "Epoch 28/1000\n",
      "63/63 [==============================] - 46s 733ms/step - loss: 0.3115 - accuracy: 0.4238\n",
      "Epoch 29/1000\n",
      "63/63 [==============================] - 46s 731ms/step - loss: 0.3303 - accuracy: 0.4193\n",
      "Epoch 30/1000\n",
      "63/63 [==============================] - 47s 742ms/step - loss: 0.3472 - accuracy: 0.4157\n",
      "Epoch 31/1000\n",
      "63/63 [==============================] - ETA: 0s - loss: 0.3530 - accuracy: 0.4145"
     ]
    },
    {
     "ename": "KeyboardInterrupt",
     "evalue": "",
     "output_type": "error",
     "traceback": [
      "\u001b[0;31m---------------------------------------------------------------------------\u001b[0m",
      "\u001b[0;31mKeyboardInterrupt\u001b[0m                         Traceback (most recent call last)",
      "Cell \u001b[0;32mIn[48], line 2\u001b[0m\n\u001b[1;32m      1\u001b[0m \u001b[38;5;66;03m# Training the model\u001b[39;00m\n\u001b[0;32m----> 2\u001b[0m history \u001b[38;5;241m=\u001b[39m \u001b[43mmodel\u001b[49m\u001b[38;5;241;43m.\u001b[39;49m\u001b[43mfit\u001b[49m\u001b[43m(\u001b[49m\u001b[43m[\u001b[49m\u001b[43mencoder_input_data\u001b[49m\u001b[43m,\u001b[49m\u001b[43m \u001b[49m\u001b[43mdecoder_input_data\u001b[49m\u001b[43m]\u001b[49m\u001b[43m,\u001b[49m\u001b[43m \u001b[49m\u001b[43mdecoder_output_data\u001b[49m\u001b[43m,\u001b[49m\u001b[43m \u001b[49m\u001b[43mbatch_size\u001b[49m\u001b[38;5;241;43m=\u001b[39;49m\u001b[38;5;241;43m16\u001b[39;49m\u001b[43m,\u001b[49m\u001b[43m \u001b[49m\u001b[43mepochs\u001b[49m\u001b[38;5;241;43m=\u001b[39;49m\u001b[38;5;241;43m1000\u001b[39;49m\u001b[43m,\u001b[49m\u001b[43m \u001b[49m\u001b[43mcallbacks\u001b[49m\u001b[38;5;241;43m=\u001b[39;49m\u001b[43m[\u001b[49m\u001b[43mtensorboard_callback\u001b[49m\u001b[43m,\u001b[49m\u001b[43m \u001b[49m\u001b[43mcustom_checkpoint_callback\u001b[49m\u001b[43m]\u001b[49m\u001b[43m)\u001b[49m\n",
      "File \u001b[0;32m~/datadrive/venv/lib/python3.10/site-packages/keras/src/utils/traceback_utils.py:65\u001b[0m, in \u001b[0;36mfilter_traceback.<locals>.error_handler\u001b[0;34m(*args, **kwargs)\u001b[0m\n\u001b[1;32m     63\u001b[0m filtered_tb \u001b[38;5;241m=\u001b[39m \u001b[38;5;28;01mNone\u001b[39;00m\n\u001b[1;32m     64\u001b[0m \u001b[38;5;28;01mtry\u001b[39;00m:\n\u001b[0;32m---> 65\u001b[0m     \u001b[38;5;28;01mreturn\u001b[39;00m \u001b[43mfn\u001b[49m\u001b[43m(\u001b[49m\u001b[38;5;241;43m*\u001b[39;49m\u001b[43margs\u001b[49m\u001b[43m,\u001b[49m\u001b[43m \u001b[49m\u001b[38;5;241;43m*\u001b[39;49m\u001b[38;5;241;43m*\u001b[39;49m\u001b[43mkwargs\u001b[49m\u001b[43m)\u001b[49m\n\u001b[1;32m     66\u001b[0m \u001b[38;5;28;01mexcept\u001b[39;00m \u001b[38;5;167;01mException\u001b[39;00m \u001b[38;5;28;01mas\u001b[39;00m e:\n\u001b[1;32m     67\u001b[0m     filtered_tb \u001b[38;5;241m=\u001b[39m _process_traceback_frames(e\u001b[38;5;241m.\u001b[39m__traceback__)\n",
      "File \u001b[0;32m~/datadrive/venv/lib/python3.10/site-packages/keras/src/engine/training.py:1850\u001b[0m, in \u001b[0;36mModel.fit\u001b[0;34m(self, x, y, batch_size, epochs, verbose, callbacks, validation_split, validation_data, shuffle, class_weight, sample_weight, initial_epoch, steps_per_epoch, validation_steps, validation_batch_size, validation_freq, max_queue_size, workers, use_multiprocessing)\u001b[0m\n\u001b[1;32m   1845\u001b[0m     val_logs \u001b[38;5;241m=\u001b[39m {\n\u001b[1;32m   1846\u001b[0m         \u001b[38;5;124m\"\u001b[39m\u001b[38;5;124mval_\u001b[39m\u001b[38;5;124m\"\u001b[39m \u001b[38;5;241m+\u001b[39m name: val \u001b[38;5;28;01mfor\u001b[39;00m name, val \u001b[38;5;129;01min\u001b[39;00m val_logs\u001b[38;5;241m.\u001b[39mitems()\n\u001b[1;32m   1847\u001b[0m     }\n\u001b[1;32m   1848\u001b[0m     epoch_logs\u001b[38;5;241m.\u001b[39mupdate(val_logs)\n\u001b[0;32m-> 1850\u001b[0m \u001b[43mcallbacks\u001b[49m\u001b[38;5;241;43m.\u001b[39;49m\u001b[43mon_epoch_end\u001b[49m\u001b[43m(\u001b[49m\u001b[43mepoch\u001b[49m\u001b[43m,\u001b[49m\u001b[43m \u001b[49m\u001b[43mepoch_logs\u001b[49m\u001b[43m)\u001b[49m\n\u001b[1;32m   1851\u001b[0m training_logs \u001b[38;5;241m=\u001b[39m epoch_logs\n\u001b[1;32m   1852\u001b[0m \u001b[38;5;28;01mif\u001b[39;00m \u001b[38;5;28mself\u001b[39m\u001b[38;5;241m.\u001b[39mstop_training:\n",
      "File \u001b[0;32m~/datadrive/venv/lib/python3.10/site-packages/keras/src/callbacks.py:453\u001b[0m, in \u001b[0;36mCallbackList.on_epoch_end\u001b[0;34m(self, epoch, logs)\u001b[0m\n\u001b[1;32m    451\u001b[0m logs \u001b[38;5;241m=\u001b[39m \u001b[38;5;28mself\u001b[39m\u001b[38;5;241m.\u001b[39m_process_logs(logs)\n\u001b[1;32m    452\u001b[0m \u001b[38;5;28;01mfor\u001b[39;00m callback \u001b[38;5;129;01min\u001b[39;00m \u001b[38;5;28mself\u001b[39m\u001b[38;5;241m.\u001b[39mcallbacks:\n\u001b[0;32m--> 453\u001b[0m     \u001b[43mcallback\u001b[49m\u001b[38;5;241;43m.\u001b[39;49m\u001b[43mon_epoch_end\u001b[49m\u001b[43m(\u001b[49m\u001b[43mepoch\u001b[49m\u001b[43m,\u001b[49m\u001b[43m \u001b[49m\u001b[43mlogs\u001b[49m\u001b[43m)\u001b[49m\n",
      "File \u001b[0;32m~/datadrive/venv/lib/python3.10/site-packages/keras/src/callbacks.py:2844\u001b[0m, in \u001b[0;36mTensorBoard.on_epoch_end\u001b[0;34m(self, epoch, logs)\u001b[0m\n\u001b[1;32m   2841\u001b[0m \u001b[38;5;28mself\u001b[39m\u001b[38;5;241m.\u001b[39m_log_epoch_metrics(epoch, logs)\n\u001b[1;32m   2843\u001b[0m \u001b[38;5;28;01mif\u001b[39;00m \u001b[38;5;28mself\u001b[39m\u001b[38;5;241m.\u001b[39mhistogram_freq \u001b[38;5;129;01mand\u001b[39;00m epoch \u001b[38;5;241m%\u001b[39m \u001b[38;5;28mself\u001b[39m\u001b[38;5;241m.\u001b[39mhistogram_freq \u001b[38;5;241m==\u001b[39m \u001b[38;5;241m0\u001b[39m:\n\u001b[0;32m-> 2844\u001b[0m     \u001b[38;5;28;43mself\u001b[39;49m\u001b[38;5;241;43m.\u001b[39;49m\u001b[43m_log_weights\u001b[49m\u001b[43m(\u001b[49m\u001b[43mepoch\u001b[49m\u001b[43m)\u001b[49m\n\u001b[1;32m   2846\u001b[0m \u001b[38;5;28;01mif\u001b[39;00m \u001b[38;5;28mself\u001b[39m\u001b[38;5;241m.\u001b[39membeddings_freq \u001b[38;5;129;01mand\u001b[39;00m epoch \u001b[38;5;241m%\u001b[39m \u001b[38;5;28mself\u001b[39m\u001b[38;5;241m.\u001b[39membeddings_freq \u001b[38;5;241m==\u001b[39m \u001b[38;5;241m0\u001b[39m:\n\u001b[1;32m   2847\u001b[0m     \u001b[38;5;28mself\u001b[39m\u001b[38;5;241m.\u001b[39m_log_embeddings(epoch)\n",
      "File \u001b[0;32m~/datadrive/venv/lib/python3.10/site-packages/keras/src/callbacks.py:2924\u001b[0m, in \u001b[0;36mTensorBoard._log_weights\u001b[0;34m(self, epoch)\u001b[0m\n\u001b[1;32m   2922\u001b[0m \u001b[38;5;66;03m# Add a suffix to prevent summary tag name collision.\u001b[39;00m\n\u001b[1;32m   2923\u001b[0m histogram_weight_name \u001b[38;5;241m=\u001b[39m weight_name \u001b[38;5;241m+\u001b[39m \u001b[38;5;124m\"\u001b[39m\u001b[38;5;124m/histogram\u001b[39m\u001b[38;5;124m\"\u001b[39m\n\u001b[0;32m-> 2924\u001b[0m \u001b[43mtf\u001b[49m\u001b[38;5;241;43m.\u001b[39;49m\u001b[43msummary\u001b[49m\u001b[38;5;241;43m.\u001b[39;49m\u001b[43mhistogram\u001b[49m\u001b[43m(\u001b[49m\n\u001b[1;32m   2925\u001b[0m \u001b[43m    \u001b[49m\u001b[43mhistogram_weight_name\u001b[49m\u001b[43m,\u001b[49m\u001b[43m \u001b[49m\u001b[43mweight\u001b[49m\u001b[43m,\u001b[49m\u001b[43m \u001b[49m\u001b[43mstep\u001b[49m\u001b[38;5;241;43m=\u001b[39;49m\u001b[43mepoch\u001b[49m\n\u001b[1;32m   2926\u001b[0m \u001b[43m\u001b[49m\u001b[43m)\u001b[49m\n\u001b[1;32m   2927\u001b[0m \u001b[38;5;28;01mif\u001b[39;00m \u001b[38;5;28mself\u001b[39m\u001b[38;5;241m.\u001b[39mwrite_images:\n\u001b[1;32m   2928\u001b[0m     \u001b[38;5;66;03m# Add a suffix to prevent summary tag name\u001b[39;00m\n\u001b[1;32m   2929\u001b[0m     \u001b[38;5;66;03m# collision.\u001b[39;00m\n\u001b[1;32m   2930\u001b[0m     image_weight_name \u001b[38;5;241m=\u001b[39m weight_name \u001b[38;5;241m+\u001b[39m \u001b[38;5;124m\"\u001b[39m\u001b[38;5;124m/image\u001b[39m\u001b[38;5;124m\"\u001b[39m\n",
      "File \u001b[0;32m~/datadrive/venv/lib/python3.10/site-packages/tensorboard/plugins/histogram/summary_v2.py:196\u001b[0m, in \u001b[0;36mhistogram\u001b[0;34m(name, data, step, buckets, description)\u001b[0m\n\u001b[1;32m    192\u001b[0m \u001b[38;5;129m@lazy_tensor_creator\u001b[39m\u001b[38;5;241m.\u001b[39mLazyTensorCreator\n\u001b[1;32m    193\u001b[0m \u001b[38;5;28;01mdef\u001b[39;00m \u001b[38;5;21mlazy_tensor\u001b[39m():\n\u001b[1;32m    194\u001b[0m     \u001b[38;5;28;01mreturn\u001b[39;00m _buckets(data, buckets)\n\u001b[0;32m--> 196\u001b[0m \u001b[38;5;28;01mreturn\u001b[39;00m \u001b[43mtf\u001b[49m\u001b[38;5;241;43m.\u001b[39;49m\u001b[43msummary\u001b[49m\u001b[38;5;241;43m.\u001b[39;49m\u001b[43mwrite\u001b[49m\u001b[43m(\u001b[49m\n\u001b[1;32m    197\u001b[0m \u001b[43m    \u001b[49m\u001b[43mtag\u001b[49m\u001b[38;5;241;43m=\u001b[39;49m\u001b[43mtag\u001b[49m\u001b[43m,\u001b[49m\n\u001b[1;32m    198\u001b[0m \u001b[43m    \u001b[49m\u001b[43mtensor\u001b[49m\u001b[38;5;241;43m=\u001b[39;49m\u001b[43mlazy_tensor\u001b[49m\u001b[43m,\u001b[49m\n\u001b[1;32m    199\u001b[0m \u001b[43m    \u001b[49m\u001b[43mstep\u001b[49m\u001b[38;5;241;43m=\u001b[39;49m\u001b[43mstep\u001b[49m\u001b[43m,\u001b[49m\n\u001b[1;32m    200\u001b[0m \u001b[43m    \u001b[49m\u001b[43mmetadata\u001b[49m\u001b[38;5;241;43m=\u001b[39;49m\u001b[43msummary_metadata\u001b[49m\u001b[43m,\u001b[49m\n\u001b[1;32m    201\u001b[0m \u001b[43m\u001b[49m\u001b[43m)\u001b[49m\n",
      "File \u001b[0;32m~/datadrive/venv/lib/python3.10/site-packages/tensorflow/python/ops/summary_ops_v2.py:813\u001b[0m, in \u001b[0;36mwrite\u001b[0;34m(tag, tensor, step, metadata, name)\u001b[0m\n\u001b[1;32m    810\u001b[0m     \u001b[38;5;28;01mwith\u001b[39;00m ops\u001b[38;5;241m.\u001b[39mcontrol_dependencies([write_summary_op]):\n\u001b[1;32m    811\u001b[0m       \u001b[38;5;28;01mreturn\u001b[39;00m constant_op\u001b[38;5;241m.\u001b[39mconstant(\u001b[38;5;28;01mTrue\u001b[39;00m)\n\u001b[0;32m--> 813\u001b[0m op \u001b[38;5;241m=\u001b[39m \u001b[43msmart_cond\u001b[49m\u001b[38;5;241;43m.\u001b[39;49m\u001b[43msmart_cond\u001b[49m\u001b[43m(\u001b[49m\n\u001b[1;32m    814\u001b[0m \u001b[43m    \u001b[49m\u001b[43mshould_record_summaries\u001b[49m\u001b[43m(\u001b[49m\u001b[43m)\u001b[49m\u001b[43m,\u001b[49m\u001b[43m \u001b[49m\u001b[43mrecord\u001b[49m\u001b[43m,\u001b[49m\u001b[43m \u001b[49m\u001b[43m_nothing\u001b[49m\u001b[43m,\u001b[49m\u001b[43m \u001b[49m\u001b[43mname\u001b[49m\u001b[38;5;241;43m=\u001b[39;49m\u001b[38;5;124;43m\"\u001b[39;49m\u001b[38;5;124;43msummary_cond\u001b[39;49m\u001b[38;5;124;43m\"\u001b[39;49m\u001b[43m)\u001b[49m\n\u001b[1;32m    815\u001b[0m \u001b[38;5;28;01mif\u001b[39;00m \u001b[38;5;129;01mnot\u001b[39;00m context\u001b[38;5;241m.\u001b[39mexecuting_eagerly():\n\u001b[1;32m    816\u001b[0m   ops\u001b[38;5;241m.\u001b[39madd_to_collection(ops\u001b[38;5;241m.\u001b[39mGraphKeys\u001b[38;5;241m.\u001b[39m_SUMMARY_COLLECTION, op)  \u001b[38;5;66;03m# pylint: disable=protected-access\u001b[39;00m\n",
      "File \u001b[0;32m~/datadrive/venv/lib/python3.10/site-packages/tensorflow/python/framework/smart_cond.py:53\u001b[0m, in \u001b[0;36msmart_cond\u001b[0;34m(pred, true_fn, false_fn, name)\u001b[0m\n\u001b[1;32m     51\u001b[0m \u001b[38;5;28;01mif\u001b[39;00m pred_value \u001b[38;5;129;01mis\u001b[39;00m \u001b[38;5;129;01mnot\u001b[39;00m \u001b[38;5;28;01mNone\u001b[39;00m:\n\u001b[1;32m     52\u001b[0m   \u001b[38;5;28;01mif\u001b[39;00m pred_value:\n\u001b[0;32m---> 53\u001b[0m     \u001b[38;5;28;01mreturn\u001b[39;00m \u001b[43mtrue_fn\u001b[49m\u001b[43m(\u001b[49m\u001b[43m)\u001b[49m\n\u001b[1;32m     54\u001b[0m   \u001b[38;5;28;01melse\u001b[39;00m:\n\u001b[1;32m     55\u001b[0m     \u001b[38;5;28;01mreturn\u001b[39;00m false_fn()\n",
      "File \u001b[0;32m~/datadrive/venv/lib/python3.10/site-packages/tensorflow/python/ops/summary_ops_v2.py:793\u001b[0m, in \u001b[0;36mwrite.<locals>.record\u001b[0;34m()\u001b[0m\n\u001b[1;32m    791\u001b[0m \u001b[38;5;66;03m# Note the identity to move the tensor to the CPU.\u001b[39;00m\n\u001b[1;32m    792\u001b[0m \u001b[38;5;28;01mwith\u001b[39;00m ops\u001b[38;5;241m.\u001b[39mdevice(\u001b[38;5;124m\"\u001b[39m\u001b[38;5;124mcpu:0\u001b[39m\u001b[38;5;124m\"\u001b[39m):\n\u001b[0;32m--> 793\u001b[0m   summary_tensor \u001b[38;5;241m=\u001b[39m \u001b[43mtensor\u001b[49m\u001b[43m(\u001b[49m\u001b[43m)\u001b[49m \u001b[38;5;28;01mif\u001b[39;00m \u001b[38;5;28mcallable\u001b[39m(tensor) \u001b[38;5;28;01melse\u001b[39;00m array_ops\u001b[38;5;241m.\u001b[39midentity(\n\u001b[1;32m    794\u001b[0m       tensor)\n\u001b[1;32m    795\u001b[0m   \u001b[38;5;66;03m# For DTensor, the device scope above doesn't work, we need to\u001b[39;00m\n\u001b[1;32m    796\u001b[0m   \u001b[38;5;66;03m# explicitly copy the resource tensor to host mesh, which is a cpu\u001b[39;00m\n\u001b[1;32m    797\u001b[0m   \u001b[38;5;66;03m# mesh.\u001b[39;00m\n\u001b[1;32m    798\u001b[0m   writer \u001b[38;5;241m=\u001b[39m _summary_state\u001b[38;5;241m.\u001b[39mwriter\n",
      "File \u001b[0;32m~/datadrive/venv/lib/python3.10/site-packages/tensorboard/util/lazy_tensor_creator.py:66\u001b[0m, in \u001b[0;36mLazyTensorCreator.__call__\u001b[0;34m(self)\u001b[0m\n\u001b[1;32m     64\u001b[0m         \u001b[38;5;28;01melif\u001b[39;00m \u001b[38;5;28mself\u001b[39m\u001b[38;5;241m.\u001b[39m_tensor \u001b[38;5;129;01mis\u001b[39;00m \u001b[38;5;28;01mNone\u001b[39;00m:\n\u001b[1;32m     65\u001b[0m             \u001b[38;5;28mself\u001b[39m\u001b[38;5;241m.\u001b[39m_tensor \u001b[38;5;241m=\u001b[39m _CALL_IN_PROGRESS_SENTINEL\n\u001b[0;32m---> 66\u001b[0m             \u001b[38;5;28mself\u001b[39m\u001b[38;5;241m.\u001b[39m_tensor \u001b[38;5;241m=\u001b[39m \u001b[38;5;28;43mself\u001b[39;49m\u001b[38;5;241;43m.\u001b[39;49m\u001b[43m_tensor_callable\u001b[49m\u001b[43m(\u001b[49m\u001b[43m)\u001b[49m\n\u001b[1;32m     67\u001b[0m \u001b[38;5;28;01mreturn\u001b[39;00m \u001b[38;5;28mself\u001b[39m\u001b[38;5;241m.\u001b[39m_tensor\n",
      "File \u001b[0;32m~/datadrive/venv/lib/python3.10/site-packages/tensorboard/plugins/histogram/summary_v2.py:194\u001b[0m, in \u001b[0;36mhistogram.<locals>.lazy_tensor\u001b[0;34m()\u001b[0m\n\u001b[1;32m    192\u001b[0m \u001b[38;5;129m@lazy_tensor_creator\u001b[39m\u001b[38;5;241m.\u001b[39mLazyTensorCreator\n\u001b[1;32m    193\u001b[0m \u001b[38;5;28;01mdef\u001b[39;00m \u001b[38;5;21mlazy_tensor\u001b[39m():\n\u001b[0;32m--> 194\u001b[0m     \u001b[38;5;28;01mreturn\u001b[39;00m \u001b[43m_buckets\u001b[49m\u001b[43m(\u001b[49m\u001b[43mdata\u001b[49m\u001b[43m,\u001b[49m\u001b[43m \u001b[49m\u001b[43mbuckets\u001b[49m\u001b[43m)\u001b[49m\n",
      "File \u001b[0;32m~/datadrive/venv/lib/python3.10/site-packages/tensorboard/plugins/histogram/summary_v2.py:293\u001b[0m, in \u001b[0;36m_buckets\u001b[0;34m(data, bucket_count)\u001b[0m\n\u001b[1;32m    287\u001b[0m         \u001b[38;5;28;01mreturn\u001b[39;00m tf\u001b[38;5;241m.\u001b[39mtranspose(a\u001b[38;5;241m=\u001b[39mtf\u001b[38;5;241m.\u001b[39mstack([edges, edges, bucket_counts]))\n\u001b[1;32m    289\u001b[0m     \u001b[38;5;28;01mreturn\u001b[39;00m tf\u001b[38;5;241m.\u001b[39mcond(\n\u001b[1;32m    290\u001b[0m         has_single_value, when_single_value, when_multiple_values\n\u001b[1;32m    291\u001b[0m     )\n\u001b[0;32m--> 293\u001b[0m \u001b[38;5;28;01mreturn\u001b[39;00m \u001b[43mtf\u001b[49m\u001b[38;5;241;43m.\u001b[39;49m\u001b[43mcond\u001b[49m\u001b[43m(\u001b[49m\u001b[43mis_empty\u001b[49m\u001b[43m,\u001b[49m\u001b[43m \u001b[49m\u001b[43mwhen_empty\u001b[49m\u001b[43m,\u001b[49m\u001b[43m \u001b[49m\u001b[43mwhen_nonempty\u001b[49m\u001b[43m)\u001b[49m\n",
      "File \u001b[0;32m~/datadrive/venv/lib/python3.10/site-packages/tensorflow/python/util/traceback_utils.py:150\u001b[0m, in \u001b[0;36mfilter_traceback.<locals>.error_handler\u001b[0;34m(*args, **kwargs)\u001b[0m\n\u001b[1;32m    148\u001b[0m filtered_tb \u001b[38;5;241m=\u001b[39m \u001b[38;5;28;01mNone\u001b[39;00m\n\u001b[1;32m    149\u001b[0m \u001b[38;5;28;01mtry\u001b[39;00m:\n\u001b[0;32m--> 150\u001b[0m   \u001b[38;5;28;01mreturn\u001b[39;00m \u001b[43mfn\u001b[49m\u001b[43m(\u001b[49m\u001b[38;5;241;43m*\u001b[39;49m\u001b[43margs\u001b[49m\u001b[43m,\u001b[49m\u001b[43m \u001b[49m\u001b[38;5;241;43m*\u001b[39;49m\u001b[38;5;241;43m*\u001b[39;49m\u001b[43mkwargs\u001b[49m\u001b[43m)\u001b[49m\n\u001b[1;32m    151\u001b[0m \u001b[38;5;28;01mexcept\u001b[39;00m \u001b[38;5;167;01mException\u001b[39;00m \u001b[38;5;28;01mas\u001b[39;00m e:\n\u001b[1;32m    152\u001b[0m   filtered_tb \u001b[38;5;241m=\u001b[39m _process_traceback_frames(e\u001b[38;5;241m.\u001b[39m__traceback__)\n",
      "File \u001b[0;32m~/datadrive/venv/lib/python3.10/site-packages/tensorflow/python/util/dispatch.py:1260\u001b[0m, in \u001b[0;36madd_dispatch_support.<locals>.decorator.<locals>.op_dispatch_handler\u001b[0;34m(*args, **kwargs)\u001b[0m\n\u001b[1;32m   1258\u001b[0m \u001b[38;5;66;03m# Fallback dispatch system (dispatch v1):\u001b[39;00m\n\u001b[1;32m   1259\u001b[0m \u001b[38;5;28;01mtry\u001b[39;00m:\n\u001b[0;32m-> 1260\u001b[0m   \u001b[38;5;28;01mreturn\u001b[39;00m \u001b[43mdispatch_target\u001b[49m\u001b[43m(\u001b[49m\u001b[38;5;241;43m*\u001b[39;49m\u001b[43margs\u001b[49m\u001b[43m,\u001b[49m\u001b[43m \u001b[49m\u001b[38;5;241;43m*\u001b[39;49m\u001b[38;5;241;43m*\u001b[39;49m\u001b[43mkwargs\u001b[49m\u001b[43m)\u001b[49m\n\u001b[1;32m   1261\u001b[0m \u001b[38;5;28;01mexcept\u001b[39;00m (\u001b[38;5;167;01mTypeError\u001b[39;00m, \u001b[38;5;167;01mValueError\u001b[39;00m):\n\u001b[1;32m   1262\u001b[0m   \u001b[38;5;66;03m# Note: convert_to_eager_tensor currently raises a ValueError, not a\u001b[39;00m\n\u001b[1;32m   1263\u001b[0m   \u001b[38;5;66;03m# TypeError, when given unexpected types.  So we need to catch both.\u001b[39;00m\n\u001b[1;32m   1264\u001b[0m   result \u001b[38;5;241m=\u001b[39m dispatch(op_dispatch_handler, args, kwargs)\n",
      "File \u001b[0;32m~/datadrive/venv/lib/python3.10/site-packages/tensorflow/python/ops/cond.py:343\u001b[0m, in \u001b[0;36mcond_for_tf_v2\u001b[0;34m(pred, true_fn, false_fn, name)\u001b[0m\n\u001b[1;32m    243\u001b[0m \u001b[38;5;129m@tf_export\u001b[39m(\u001b[38;5;124m\"\u001b[39m\u001b[38;5;124mcond\u001b[39m\u001b[38;5;124m\"\u001b[39m, v1\u001b[38;5;241m=\u001b[39m[])\n\u001b[1;32m    244\u001b[0m \u001b[38;5;129m@dispatch\u001b[39m\u001b[38;5;241m.\u001b[39madd_dispatch_support\n\u001b[1;32m    245\u001b[0m \u001b[38;5;28;01mdef\u001b[39;00m \u001b[38;5;21mcond_for_tf_v2\u001b[39m(pred, true_fn\u001b[38;5;241m=\u001b[39m\u001b[38;5;28;01mNone\u001b[39;00m, false_fn\u001b[38;5;241m=\u001b[39m\u001b[38;5;28;01mNone\u001b[39;00m, name\u001b[38;5;241m=\u001b[39m\u001b[38;5;28;01mNone\u001b[39;00m):\n\u001b[1;32m    246\u001b[0m \u001b[38;5;250m  \u001b[39m\u001b[38;5;124;03m\"\"\"Return `true_fn()` if the predicate `pred` is true else `false_fn()`.\u001b[39;00m\n\u001b[1;32m    247\u001b[0m \n\u001b[1;32m    248\u001b[0m \u001b[38;5;124;03m  Note: This op is automatically used in a `tf.function` to convert Python\u001b[39;00m\n\u001b[0;32m   (...)\u001b[0m\n\u001b[1;32m    341\u001b[0m \n\u001b[1;32m    342\u001b[0m \u001b[38;5;124;03m  \"\"\"\u001b[39;00m\n\u001b[0;32m--> 343\u001b[0m   \u001b[38;5;28;01mreturn\u001b[39;00m \u001b[43mcond\u001b[49m\u001b[43m(\u001b[49m\u001b[43mpred\u001b[49m\u001b[43m,\u001b[49m\u001b[43m \u001b[49m\u001b[43mtrue_fn\u001b[49m\u001b[38;5;241;43m=\u001b[39;49m\u001b[43mtrue_fn\u001b[49m\u001b[43m,\u001b[49m\u001b[43m \u001b[49m\u001b[43mfalse_fn\u001b[49m\u001b[38;5;241;43m=\u001b[39;49m\u001b[43mfalse_fn\u001b[49m\u001b[43m,\u001b[49m\u001b[43m \u001b[49m\u001b[43mstrict\u001b[49m\u001b[38;5;241;43m=\u001b[39;49m\u001b[38;5;28;43;01mTrue\u001b[39;49;00m\u001b[43m,\u001b[49m\u001b[43m \u001b[49m\u001b[43mname\u001b[49m\u001b[38;5;241;43m=\u001b[39;49m\u001b[43mname\u001b[49m\u001b[43m)\u001b[49m\n",
      "File \u001b[0;32m~/datadrive/venv/lib/python3.10/site-packages/tensorflow/python/util/traceback_utils.py:150\u001b[0m, in \u001b[0;36mfilter_traceback.<locals>.error_handler\u001b[0;34m(*args, **kwargs)\u001b[0m\n\u001b[1;32m    148\u001b[0m filtered_tb \u001b[38;5;241m=\u001b[39m \u001b[38;5;28;01mNone\u001b[39;00m\n\u001b[1;32m    149\u001b[0m \u001b[38;5;28;01mtry\u001b[39;00m:\n\u001b[0;32m--> 150\u001b[0m   \u001b[38;5;28;01mreturn\u001b[39;00m \u001b[43mfn\u001b[49m\u001b[43m(\u001b[49m\u001b[38;5;241;43m*\u001b[39;49m\u001b[43margs\u001b[49m\u001b[43m,\u001b[49m\u001b[43m \u001b[49m\u001b[38;5;241;43m*\u001b[39;49m\u001b[38;5;241;43m*\u001b[39;49m\u001b[43mkwargs\u001b[49m\u001b[43m)\u001b[49m\n\u001b[1;32m    151\u001b[0m \u001b[38;5;28;01mexcept\u001b[39;00m \u001b[38;5;167;01mException\u001b[39;00m \u001b[38;5;28;01mas\u001b[39;00m e:\n\u001b[1;32m    152\u001b[0m   filtered_tb \u001b[38;5;241m=\u001b[39m _process_traceback_frames(e\u001b[38;5;241m.\u001b[39m__traceback__)\n",
      "File \u001b[0;32m~/datadrive/venv/lib/python3.10/site-packages/tensorflow/python/util/dispatch.py:1260\u001b[0m, in \u001b[0;36madd_dispatch_support.<locals>.decorator.<locals>.op_dispatch_handler\u001b[0;34m(*args, **kwargs)\u001b[0m\n\u001b[1;32m   1258\u001b[0m \u001b[38;5;66;03m# Fallback dispatch system (dispatch v1):\u001b[39;00m\n\u001b[1;32m   1259\u001b[0m \u001b[38;5;28;01mtry\u001b[39;00m:\n\u001b[0;32m-> 1260\u001b[0m   \u001b[38;5;28;01mreturn\u001b[39;00m \u001b[43mdispatch_target\u001b[49m\u001b[43m(\u001b[49m\u001b[38;5;241;43m*\u001b[39;49m\u001b[43margs\u001b[49m\u001b[43m,\u001b[49m\u001b[43m \u001b[49m\u001b[38;5;241;43m*\u001b[39;49m\u001b[38;5;241;43m*\u001b[39;49m\u001b[43mkwargs\u001b[49m\u001b[43m)\u001b[49m\n\u001b[1;32m   1261\u001b[0m \u001b[38;5;28;01mexcept\u001b[39;00m (\u001b[38;5;167;01mTypeError\u001b[39;00m, \u001b[38;5;167;01mValueError\u001b[39;00m):\n\u001b[1;32m   1262\u001b[0m   \u001b[38;5;66;03m# Note: convert_to_eager_tensor currently raises a ValueError, not a\u001b[39;00m\n\u001b[1;32m   1263\u001b[0m   \u001b[38;5;66;03m# TypeError, when given unexpected types.  So we need to catch both.\u001b[39;00m\n\u001b[1;32m   1264\u001b[0m   result \u001b[38;5;241m=\u001b[39m dispatch(op_dispatch_handler, args, kwargs)\n",
      "File \u001b[0;32m~/datadrive/venv/lib/python3.10/site-packages/tensorflow/python/util/deprecation.py:588\u001b[0m, in \u001b[0;36mdeprecated_args.<locals>.deprecated_wrapper.<locals>.new_func\u001b[0;34m(*args, **kwargs)\u001b[0m\n\u001b[1;32m    580\u001b[0m         _PRINTED_WARNING[(func, arg_name)] \u001b[38;5;241m=\u001b[39m \u001b[38;5;28;01mTrue\u001b[39;00m\n\u001b[1;32m    581\u001b[0m       _log_deprecation(\n\u001b[1;32m    582\u001b[0m           \u001b[38;5;124m'\u001b[39m\u001b[38;5;124mFrom \u001b[39m\u001b[38;5;132;01m%s\u001b[39;00m\u001b[38;5;124m: calling \u001b[39m\u001b[38;5;132;01m%s\u001b[39;00m\u001b[38;5;124m (from \u001b[39m\u001b[38;5;132;01m%s\u001b[39;00m\u001b[38;5;124m) with \u001b[39m\u001b[38;5;132;01m%s\u001b[39;00m\u001b[38;5;124m is deprecated and will \u001b[39m\u001b[38;5;124m'\u001b[39m\n\u001b[1;32m    583\u001b[0m           \u001b[38;5;124m'\u001b[39m\u001b[38;5;124mbe removed \u001b[39m\u001b[38;5;132;01m%s\u001b[39;00m\u001b[38;5;124m.\u001b[39m\u001b[38;5;130;01m\\n\u001b[39;00m\u001b[38;5;124mInstructions for updating:\u001b[39m\u001b[38;5;130;01m\\n\u001b[39;00m\u001b[38;5;132;01m%s\u001b[39;00m\u001b[38;5;124m'\u001b[39m,\n\u001b[0;32m   (...)\u001b[0m\n\u001b[1;32m    586\u001b[0m           \u001b[38;5;124m'\u001b[39m\u001b[38;5;124min a future version\u001b[39m\u001b[38;5;124m'\u001b[39m \u001b[38;5;28;01mif\u001b[39;00m date \u001b[38;5;129;01mis\u001b[39;00m \u001b[38;5;28;01mNone\u001b[39;00m \u001b[38;5;28;01melse\u001b[39;00m (\u001b[38;5;124m'\u001b[39m\u001b[38;5;124mafter \u001b[39m\u001b[38;5;132;01m%s\u001b[39;00m\u001b[38;5;124m'\u001b[39m \u001b[38;5;241m%\u001b[39m date),\n\u001b[1;32m    587\u001b[0m           instructions)\n\u001b[0;32m--> 588\u001b[0m \u001b[38;5;28;01mreturn\u001b[39;00m \u001b[43mfunc\u001b[49m\u001b[43m(\u001b[49m\u001b[38;5;241;43m*\u001b[39;49m\u001b[43margs\u001b[49m\u001b[43m,\u001b[49m\u001b[43m \u001b[49m\u001b[38;5;241;43m*\u001b[39;49m\u001b[38;5;241;43m*\u001b[39;49m\u001b[43mkwargs\u001b[49m\u001b[43m)\u001b[49m\n",
      "File \u001b[0;32m~/datadrive/venv/lib/python3.10/site-packages/tensorflow/python/ops/cond.py:142\u001b[0m, in \u001b[0;36mcond\u001b[0;34m(pred, true_fn, false_fn, strict, name, fn1, fn2)\u001b[0m\n\u001b[1;32m    139\u001b[0m   \u001b[38;5;28;01mraise\u001b[39;00m \u001b[38;5;167;01mTypeError\u001b[39;00m(\u001b[38;5;124m\"\u001b[39m\u001b[38;5;124m'\u001b[39m\u001b[38;5;124mfalse_fn\u001b[39m\u001b[38;5;124m'\u001b[39m\u001b[38;5;124m must be callable.\u001b[39m\u001b[38;5;124m\"\u001b[39m)\n\u001b[1;32m    141\u001b[0m \u001b[38;5;28;01mif\u001b[39;00m context\u001b[38;5;241m.\u001b[39mexecuting_eagerly():\n\u001b[0;32m--> 142\u001b[0m   \u001b[38;5;28;01mreturn\u001b[39;00m \u001b[43m_eager_cond_implementation\u001b[49m\u001b[43m(\u001b[49m\u001b[43mpred\u001b[49m\u001b[43m,\u001b[49m\u001b[43m \u001b[49m\u001b[43mtrue_fn\u001b[49m\u001b[43m,\u001b[49m\u001b[43m \u001b[49m\u001b[43mfalse_fn\u001b[49m\u001b[43m,\u001b[49m\u001b[43m \u001b[49m\u001b[43mstrict\u001b[49m\u001b[43m,\u001b[49m\u001b[43m \u001b[49m\u001b[43mname\u001b[49m\u001b[43m)\u001b[49m\n\u001b[1;32m    144\u001b[0m \u001b[38;5;66;03m# Always enable control flow v2 if building a function, regardless of toggle.\u001b[39;00m\n\u001b[1;32m    145\u001b[0m \u001b[38;5;28;01mif\u001b[39;00m util\u001b[38;5;241m.\u001b[39mEnableControlFlowV2(ops\u001b[38;5;241m.\u001b[39mget_default_graph()):\n",
      "File \u001b[0;32m~/datadrive/venv/lib/python3.10/site-packages/tensorflow/python/ops/cond.py:387\u001b[0m, in \u001b[0;36m_eager_cond_implementation\u001b[0;34m(pred, true_fn, false_fn, strict, name)\u001b[0m\n\u001b[1;32m    385\u001b[0m   result \u001b[38;5;241m=\u001b[39m true_fn()\n\u001b[1;32m    386\u001b[0m \u001b[38;5;28;01melse\u001b[39;00m:\n\u001b[0;32m--> 387\u001b[0m   result \u001b[38;5;241m=\u001b[39m \u001b[43mfalse_fn\u001b[49m\u001b[43m(\u001b[49m\u001b[43m)\u001b[49m\n\u001b[1;32m    388\u001b[0m \u001b[38;5;28;01mif\u001b[39;00m \u001b[38;5;129;01mnot\u001b[39;00m strict:\n\u001b[1;32m    389\u001b[0m   result \u001b[38;5;241m=\u001b[39m _UnpackIfSingleton(result)\n",
      "File \u001b[0;32m~/datadrive/venv/lib/python3.10/site-packages/tensorboard/plugins/histogram/summary_v2.py:289\u001b[0m, in \u001b[0;36m_buckets.<locals>.when_nonempty\u001b[0;34m()\u001b[0m\n\u001b[1;32m    283\u001b[0m     bucket_counts \u001b[38;5;241m=\u001b[39m tf\u001b[38;5;241m.\u001b[39mcast(\n\u001b[1;32m    284\u001b[0m         tf\u001b[38;5;241m.\u001b[39mconcat([zeroes[:\u001b[38;5;241m-\u001b[39m\u001b[38;5;241m1\u001b[39m], [data_size]], \u001b[38;5;241m0\u001b[39m)[:bucket_count],\n\u001b[1;32m    285\u001b[0m         dtype\u001b[38;5;241m=\u001b[39mtf\u001b[38;5;241m.\u001b[39mfloat64,\n\u001b[1;32m    286\u001b[0m     )\n\u001b[1;32m    287\u001b[0m     \u001b[38;5;28;01mreturn\u001b[39;00m tf\u001b[38;5;241m.\u001b[39mtranspose(a\u001b[38;5;241m=\u001b[39mtf\u001b[38;5;241m.\u001b[39mstack([edges, edges, bucket_counts]))\n\u001b[0;32m--> 289\u001b[0m \u001b[38;5;28;01mreturn\u001b[39;00m \u001b[43mtf\u001b[49m\u001b[38;5;241;43m.\u001b[39;49m\u001b[43mcond\u001b[49m\u001b[43m(\u001b[49m\n\u001b[1;32m    290\u001b[0m \u001b[43m    \u001b[49m\u001b[43mhas_single_value\u001b[49m\u001b[43m,\u001b[49m\u001b[43m \u001b[49m\u001b[43mwhen_single_value\u001b[49m\u001b[43m,\u001b[49m\u001b[43m \u001b[49m\u001b[43mwhen_multiple_values\u001b[49m\n\u001b[1;32m    291\u001b[0m \u001b[43m\u001b[49m\u001b[43m)\u001b[49m\n",
      "File \u001b[0;32m~/datadrive/venv/lib/python3.10/site-packages/tensorflow/python/util/traceback_utils.py:150\u001b[0m, in \u001b[0;36mfilter_traceback.<locals>.error_handler\u001b[0;34m(*args, **kwargs)\u001b[0m\n\u001b[1;32m    148\u001b[0m filtered_tb \u001b[38;5;241m=\u001b[39m \u001b[38;5;28;01mNone\u001b[39;00m\n\u001b[1;32m    149\u001b[0m \u001b[38;5;28;01mtry\u001b[39;00m:\n\u001b[0;32m--> 150\u001b[0m   \u001b[38;5;28;01mreturn\u001b[39;00m \u001b[43mfn\u001b[49m\u001b[43m(\u001b[49m\u001b[38;5;241;43m*\u001b[39;49m\u001b[43margs\u001b[49m\u001b[43m,\u001b[49m\u001b[43m \u001b[49m\u001b[38;5;241;43m*\u001b[39;49m\u001b[38;5;241;43m*\u001b[39;49m\u001b[43mkwargs\u001b[49m\u001b[43m)\u001b[49m\n\u001b[1;32m    151\u001b[0m \u001b[38;5;28;01mexcept\u001b[39;00m \u001b[38;5;167;01mException\u001b[39;00m \u001b[38;5;28;01mas\u001b[39;00m e:\n\u001b[1;32m    152\u001b[0m   filtered_tb \u001b[38;5;241m=\u001b[39m _process_traceback_frames(e\u001b[38;5;241m.\u001b[39m__traceback__)\n",
      "File \u001b[0;32m~/datadrive/venv/lib/python3.10/site-packages/tensorflow/python/util/dispatch.py:1260\u001b[0m, in \u001b[0;36madd_dispatch_support.<locals>.decorator.<locals>.op_dispatch_handler\u001b[0;34m(*args, **kwargs)\u001b[0m\n\u001b[1;32m   1258\u001b[0m \u001b[38;5;66;03m# Fallback dispatch system (dispatch v1):\u001b[39;00m\n\u001b[1;32m   1259\u001b[0m \u001b[38;5;28;01mtry\u001b[39;00m:\n\u001b[0;32m-> 1260\u001b[0m   \u001b[38;5;28;01mreturn\u001b[39;00m \u001b[43mdispatch_target\u001b[49m\u001b[43m(\u001b[49m\u001b[38;5;241;43m*\u001b[39;49m\u001b[43margs\u001b[49m\u001b[43m,\u001b[49m\u001b[43m \u001b[49m\u001b[38;5;241;43m*\u001b[39;49m\u001b[38;5;241;43m*\u001b[39;49m\u001b[43mkwargs\u001b[49m\u001b[43m)\u001b[49m\n\u001b[1;32m   1261\u001b[0m \u001b[38;5;28;01mexcept\u001b[39;00m (\u001b[38;5;167;01mTypeError\u001b[39;00m, \u001b[38;5;167;01mValueError\u001b[39;00m):\n\u001b[1;32m   1262\u001b[0m   \u001b[38;5;66;03m# Note: convert_to_eager_tensor currently raises a ValueError, not a\u001b[39;00m\n\u001b[1;32m   1263\u001b[0m   \u001b[38;5;66;03m# TypeError, when given unexpected types.  So we need to catch both.\u001b[39;00m\n\u001b[1;32m   1264\u001b[0m   result \u001b[38;5;241m=\u001b[39m dispatch(op_dispatch_handler, args, kwargs)\n",
      "File \u001b[0;32m~/datadrive/venv/lib/python3.10/site-packages/tensorflow/python/ops/cond.py:343\u001b[0m, in \u001b[0;36mcond_for_tf_v2\u001b[0;34m(pred, true_fn, false_fn, name)\u001b[0m\n\u001b[1;32m    243\u001b[0m \u001b[38;5;129m@tf_export\u001b[39m(\u001b[38;5;124m\"\u001b[39m\u001b[38;5;124mcond\u001b[39m\u001b[38;5;124m\"\u001b[39m, v1\u001b[38;5;241m=\u001b[39m[])\n\u001b[1;32m    244\u001b[0m \u001b[38;5;129m@dispatch\u001b[39m\u001b[38;5;241m.\u001b[39madd_dispatch_support\n\u001b[1;32m    245\u001b[0m \u001b[38;5;28;01mdef\u001b[39;00m \u001b[38;5;21mcond_for_tf_v2\u001b[39m(pred, true_fn\u001b[38;5;241m=\u001b[39m\u001b[38;5;28;01mNone\u001b[39;00m, false_fn\u001b[38;5;241m=\u001b[39m\u001b[38;5;28;01mNone\u001b[39;00m, name\u001b[38;5;241m=\u001b[39m\u001b[38;5;28;01mNone\u001b[39;00m):\n\u001b[1;32m    246\u001b[0m \u001b[38;5;250m  \u001b[39m\u001b[38;5;124;03m\"\"\"Return `true_fn()` if the predicate `pred` is true else `false_fn()`.\u001b[39;00m\n\u001b[1;32m    247\u001b[0m \n\u001b[1;32m    248\u001b[0m \u001b[38;5;124;03m  Note: This op is automatically used in a `tf.function` to convert Python\u001b[39;00m\n\u001b[0;32m   (...)\u001b[0m\n\u001b[1;32m    341\u001b[0m \n\u001b[1;32m    342\u001b[0m \u001b[38;5;124;03m  \"\"\"\u001b[39;00m\n\u001b[0;32m--> 343\u001b[0m   \u001b[38;5;28;01mreturn\u001b[39;00m \u001b[43mcond\u001b[49m\u001b[43m(\u001b[49m\u001b[43mpred\u001b[49m\u001b[43m,\u001b[49m\u001b[43m \u001b[49m\u001b[43mtrue_fn\u001b[49m\u001b[38;5;241;43m=\u001b[39;49m\u001b[43mtrue_fn\u001b[49m\u001b[43m,\u001b[49m\u001b[43m \u001b[49m\u001b[43mfalse_fn\u001b[49m\u001b[38;5;241;43m=\u001b[39;49m\u001b[43mfalse_fn\u001b[49m\u001b[43m,\u001b[49m\u001b[43m \u001b[49m\u001b[43mstrict\u001b[49m\u001b[38;5;241;43m=\u001b[39;49m\u001b[38;5;28;43;01mTrue\u001b[39;49;00m\u001b[43m,\u001b[49m\u001b[43m \u001b[49m\u001b[43mname\u001b[49m\u001b[38;5;241;43m=\u001b[39;49m\u001b[43mname\u001b[49m\u001b[43m)\u001b[49m\n",
      "File \u001b[0;32m~/datadrive/venv/lib/python3.10/site-packages/tensorflow/python/util/traceback_utils.py:150\u001b[0m, in \u001b[0;36mfilter_traceback.<locals>.error_handler\u001b[0;34m(*args, **kwargs)\u001b[0m\n\u001b[1;32m    148\u001b[0m filtered_tb \u001b[38;5;241m=\u001b[39m \u001b[38;5;28;01mNone\u001b[39;00m\n\u001b[1;32m    149\u001b[0m \u001b[38;5;28;01mtry\u001b[39;00m:\n\u001b[0;32m--> 150\u001b[0m   \u001b[38;5;28;01mreturn\u001b[39;00m \u001b[43mfn\u001b[49m\u001b[43m(\u001b[49m\u001b[38;5;241;43m*\u001b[39;49m\u001b[43margs\u001b[49m\u001b[43m,\u001b[49m\u001b[43m \u001b[49m\u001b[38;5;241;43m*\u001b[39;49m\u001b[38;5;241;43m*\u001b[39;49m\u001b[43mkwargs\u001b[49m\u001b[43m)\u001b[49m\n\u001b[1;32m    151\u001b[0m \u001b[38;5;28;01mexcept\u001b[39;00m \u001b[38;5;167;01mException\u001b[39;00m \u001b[38;5;28;01mas\u001b[39;00m e:\n\u001b[1;32m    152\u001b[0m   filtered_tb \u001b[38;5;241m=\u001b[39m _process_traceback_frames(e\u001b[38;5;241m.\u001b[39m__traceback__)\n",
      "File \u001b[0;32m~/datadrive/venv/lib/python3.10/site-packages/tensorflow/python/util/dispatch.py:1260\u001b[0m, in \u001b[0;36madd_dispatch_support.<locals>.decorator.<locals>.op_dispatch_handler\u001b[0;34m(*args, **kwargs)\u001b[0m\n\u001b[1;32m   1258\u001b[0m \u001b[38;5;66;03m# Fallback dispatch system (dispatch v1):\u001b[39;00m\n\u001b[1;32m   1259\u001b[0m \u001b[38;5;28;01mtry\u001b[39;00m:\n\u001b[0;32m-> 1260\u001b[0m   \u001b[38;5;28;01mreturn\u001b[39;00m \u001b[43mdispatch_target\u001b[49m\u001b[43m(\u001b[49m\u001b[38;5;241;43m*\u001b[39;49m\u001b[43margs\u001b[49m\u001b[43m,\u001b[49m\u001b[43m \u001b[49m\u001b[38;5;241;43m*\u001b[39;49m\u001b[38;5;241;43m*\u001b[39;49m\u001b[43mkwargs\u001b[49m\u001b[43m)\u001b[49m\n\u001b[1;32m   1261\u001b[0m \u001b[38;5;28;01mexcept\u001b[39;00m (\u001b[38;5;167;01mTypeError\u001b[39;00m, \u001b[38;5;167;01mValueError\u001b[39;00m):\n\u001b[1;32m   1262\u001b[0m   \u001b[38;5;66;03m# Note: convert_to_eager_tensor currently raises a ValueError, not a\u001b[39;00m\n\u001b[1;32m   1263\u001b[0m   \u001b[38;5;66;03m# TypeError, when given unexpected types.  So we need to catch both.\u001b[39;00m\n\u001b[1;32m   1264\u001b[0m   result \u001b[38;5;241m=\u001b[39m dispatch(op_dispatch_handler, args, kwargs)\n",
      "File \u001b[0;32m~/datadrive/venv/lib/python3.10/site-packages/tensorflow/python/util/deprecation.py:588\u001b[0m, in \u001b[0;36mdeprecated_args.<locals>.deprecated_wrapper.<locals>.new_func\u001b[0;34m(*args, **kwargs)\u001b[0m\n\u001b[1;32m    580\u001b[0m         _PRINTED_WARNING[(func, arg_name)] \u001b[38;5;241m=\u001b[39m \u001b[38;5;28;01mTrue\u001b[39;00m\n\u001b[1;32m    581\u001b[0m       _log_deprecation(\n\u001b[1;32m    582\u001b[0m           \u001b[38;5;124m'\u001b[39m\u001b[38;5;124mFrom \u001b[39m\u001b[38;5;132;01m%s\u001b[39;00m\u001b[38;5;124m: calling \u001b[39m\u001b[38;5;132;01m%s\u001b[39;00m\u001b[38;5;124m (from \u001b[39m\u001b[38;5;132;01m%s\u001b[39;00m\u001b[38;5;124m) with \u001b[39m\u001b[38;5;132;01m%s\u001b[39;00m\u001b[38;5;124m is deprecated and will \u001b[39m\u001b[38;5;124m'\u001b[39m\n\u001b[1;32m    583\u001b[0m           \u001b[38;5;124m'\u001b[39m\u001b[38;5;124mbe removed \u001b[39m\u001b[38;5;132;01m%s\u001b[39;00m\u001b[38;5;124m.\u001b[39m\u001b[38;5;130;01m\\n\u001b[39;00m\u001b[38;5;124mInstructions for updating:\u001b[39m\u001b[38;5;130;01m\\n\u001b[39;00m\u001b[38;5;132;01m%s\u001b[39;00m\u001b[38;5;124m'\u001b[39m,\n\u001b[0;32m   (...)\u001b[0m\n\u001b[1;32m    586\u001b[0m           \u001b[38;5;124m'\u001b[39m\u001b[38;5;124min a future version\u001b[39m\u001b[38;5;124m'\u001b[39m \u001b[38;5;28;01mif\u001b[39;00m date \u001b[38;5;129;01mis\u001b[39;00m \u001b[38;5;28;01mNone\u001b[39;00m \u001b[38;5;28;01melse\u001b[39;00m (\u001b[38;5;124m'\u001b[39m\u001b[38;5;124mafter \u001b[39m\u001b[38;5;132;01m%s\u001b[39;00m\u001b[38;5;124m'\u001b[39m \u001b[38;5;241m%\u001b[39m date),\n\u001b[1;32m    587\u001b[0m           instructions)\n\u001b[0;32m--> 588\u001b[0m \u001b[38;5;28;01mreturn\u001b[39;00m \u001b[43mfunc\u001b[49m\u001b[43m(\u001b[49m\u001b[38;5;241;43m*\u001b[39;49m\u001b[43margs\u001b[49m\u001b[43m,\u001b[49m\u001b[43m \u001b[49m\u001b[38;5;241;43m*\u001b[39;49m\u001b[38;5;241;43m*\u001b[39;49m\u001b[43mkwargs\u001b[49m\u001b[43m)\u001b[49m\n",
      "File \u001b[0;32m~/datadrive/venv/lib/python3.10/site-packages/tensorflow/python/ops/cond.py:142\u001b[0m, in \u001b[0;36mcond\u001b[0;34m(pred, true_fn, false_fn, strict, name, fn1, fn2)\u001b[0m\n\u001b[1;32m    139\u001b[0m   \u001b[38;5;28;01mraise\u001b[39;00m \u001b[38;5;167;01mTypeError\u001b[39;00m(\u001b[38;5;124m\"\u001b[39m\u001b[38;5;124m'\u001b[39m\u001b[38;5;124mfalse_fn\u001b[39m\u001b[38;5;124m'\u001b[39m\u001b[38;5;124m must be callable.\u001b[39m\u001b[38;5;124m\"\u001b[39m)\n\u001b[1;32m    141\u001b[0m \u001b[38;5;28;01mif\u001b[39;00m context\u001b[38;5;241m.\u001b[39mexecuting_eagerly():\n\u001b[0;32m--> 142\u001b[0m   \u001b[38;5;28;01mreturn\u001b[39;00m \u001b[43m_eager_cond_implementation\u001b[49m\u001b[43m(\u001b[49m\u001b[43mpred\u001b[49m\u001b[43m,\u001b[49m\u001b[43m \u001b[49m\u001b[43mtrue_fn\u001b[49m\u001b[43m,\u001b[49m\u001b[43m \u001b[49m\u001b[43mfalse_fn\u001b[49m\u001b[43m,\u001b[49m\u001b[43m \u001b[49m\u001b[43mstrict\u001b[49m\u001b[43m,\u001b[49m\u001b[43m \u001b[49m\u001b[43mname\u001b[49m\u001b[43m)\u001b[49m\n\u001b[1;32m    144\u001b[0m \u001b[38;5;66;03m# Always enable control flow v2 if building a function, regardless of toggle.\u001b[39;00m\n\u001b[1;32m    145\u001b[0m \u001b[38;5;28;01mif\u001b[39;00m util\u001b[38;5;241m.\u001b[39mEnableControlFlowV2(ops\u001b[38;5;241m.\u001b[39mget_default_graph()):\n",
      "File \u001b[0;32m~/datadrive/venv/lib/python3.10/site-packages/tensorflow/python/ops/cond.py:387\u001b[0m, in \u001b[0;36m_eager_cond_implementation\u001b[0;34m(pred, true_fn, false_fn, strict, name)\u001b[0m\n\u001b[1;32m    385\u001b[0m   result \u001b[38;5;241m=\u001b[39m true_fn()\n\u001b[1;32m    386\u001b[0m \u001b[38;5;28;01melse\u001b[39;00m:\n\u001b[0;32m--> 387\u001b[0m   result \u001b[38;5;241m=\u001b[39m \u001b[43mfalse_fn\u001b[49m\u001b[43m(\u001b[49m\u001b[43m)\u001b[49m\n\u001b[1;32m    388\u001b[0m \u001b[38;5;28;01mif\u001b[39;00m \u001b[38;5;129;01mnot\u001b[39;00m strict:\n\u001b[1;32m    389\u001b[0m   result \u001b[38;5;241m=\u001b[39m _UnpackIfSingleton(result)\n",
      "File \u001b[0;32m~/datadrive/venv/lib/python3.10/site-packages/tensorboard/plugins/histogram/summary_v2.py:258\u001b[0m, in \u001b[0;36m_buckets.<locals>.when_nonempty.<locals>.when_multiple_values\u001b[0;34m()\u001b[0m\n\u001b[1;32m    254\u001b[0m clamped_indices \u001b[38;5;241m=\u001b[39m tf\u001b[38;5;241m.\u001b[39mminimum(bucket_indices, bucket_count \u001b[38;5;241m-\u001b[39m \u001b[38;5;241m1\u001b[39m)\n\u001b[1;32m    255\u001b[0m \u001b[38;5;66;03m# Use float64 instead of float32 to avoid accumulating floating point error\u001b[39;00m\n\u001b[1;32m    256\u001b[0m \u001b[38;5;66;03m# later in tf.reduce_sum when summing more than 2^24 individual `1.0` values.\u001b[39;00m\n\u001b[1;32m    257\u001b[0m \u001b[38;5;66;03m# See https://github.com/tensorflow/tensorflow/issues/51419 for details.\u001b[39;00m\n\u001b[0;32m--> 258\u001b[0m one_hots \u001b[38;5;241m=\u001b[39m \u001b[43mtf\u001b[49m\u001b[38;5;241;43m.\u001b[39;49m\u001b[43mone_hot\u001b[49m\u001b[43m(\u001b[49m\n\u001b[1;32m    259\u001b[0m \u001b[43m    \u001b[49m\u001b[43mclamped_indices\u001b[49m\u001b[43m,\u001b[49m\u001b[43m \u001b[49m\u001b[43mdepth\u001b[49m\u001b[38;5;241;43m=\u001b[39;49m\u001b[43mbucket_count\u001b[49m\u001b[43m,\u001b[49m\u001b[43m \u001b[49m\u001b[43mdtype\u001b[49m\u001b[38;5;241;43m=\u001b[39;49m\u001b[43mtf\u001b[49m\u001b[38;5;241;43m.\u001b[39;49m\u001b[43mfloat64\u001b[49m\n\u001b[1;32m    260\u001b[0m \u001b[43m\u001b[49m\u001b[43m)\u001b[49m\n\u001b[1;32m    261\u001b[0m bucket_counts \u001b[38;5;241m=\u001b[39m tf\u001b[38;5;241m.\u001b[39mcast(\n\u001b[1;32m    262\u001b[0m     tf\u001b[38;5;241m.\u001b[39mreduce_sum(input_tensor\u001b[38;5;241m=\u001b[39mone_hots, axis\u001b[38;5;241m=\u001b[39m\u001b[38;5;241m0\u001b[39m),\n\u001b[1;32m    263\u001b[0m     dtype\u001b[38;5;241m=\u001b[39mtf\u001b[38;5;241m.\u001b[39mfloat64,\n\u001b[1;32m    264\u001b[0m )\n\u001b[1;32m    265\u001b[0m edges \u001b[38;5;241m=\u001b[39m tf\u001b[38;5;241m.\u001b[39mlinspace(min_, max_, bucket_count \u001b[38;5;241m+\u001b[39m \u001b[38;5;241m1\u001b[39m)\n",
      "File \u001b[0;32m~/datadrive/venv/lib/python3.10/site-packages/tensorflow/python/util/traceback_utils.py:150\u001b[0m, in \u001b[0;36mfilter_traceback.<locals>.error_handler\u001b[0;34m(*args, **kwargs)\u001b[0m\n\u001b[1;32m    148\u001b[0m filtered_tb \u001b[38;5;241m=\u001b[39m \u001b[38;5;28;01mNone\u001b[39;00m\n\u001b[1;32m    149\u001b[0m \u001b[38;5;28;01mtry\u001b[39;00m:\n\u001b[0;32m--> 150\u001b[0m   \u001b[38;5;28;01mreturn\u001b[39;00m \u001b[43mfn\u001b[49m\u001b[43m(\u001b[49m\u001b[38;5;241;43m*\u001b[39;49m\u001b[43margs\u001b[49m\u001b[43m,\u001b[49m\u001b[43m \u001b[49m\u001b[38;5;241;43m*\u001b[39;49m\u001b[38;5;241;43m*\u001b[39;49m\u001b[43mkwargs\u001b[49m\u001b[43m)\u001b[49m\n\u001b[1;32m    151\u001b[0m \u001b[38;5;28;01mexcept\u001b[39;00m \u001b[38;5;167;01mException\u001b[39;00m \u001b[38;5;28;01mas\u001b[39;00m e:\n\u001b[1;32m    152\u001b[0m   filtered_tb \u001b[38;5;241m=\u001b[39m _process_traceback_frames(e\u001b[38;5;241m.\u001b[39m__traceback__)\n",
      "File \u001b[0;32m~/datadrive/venv/lib/python3.10/site-packages/tensorflow/python/util/dispatch.py:1260\u001b[0m, in \u001b[0;36madd_dispatch_support.<locals>.decorator.<locals>.op_dispatch_handler\u001b[0;34m(*args, **kwargs)\u001b[0m\n\u001b[1;32m   1258\u001b[0m \u001b[38;5;66;03m# Fallback dispatch system (dispatch v1):\u001b[39;00m\n\u001b[1;32m   1259\u001b[0m \u001b[38;5;28;01mtry\u001b[39;00m:\n\u001b[0;32m-> 1260\u001b[0m   \u001b[38;5;28;01mreturn\u001b[39;00m \u001b[43mdispatch_target\u001b[49m\u001b[43m(\u001b[49m\u001b[38;5;241;43m*\u001b[39;49m\u001b[43margs\u001b[49m\u001b[43m,\u001b[49m\u001b[43m \u001b[49m\u001b[38;5;241;43m*\u001b[39;49m\u001b[38;5;241;43m*\u001b[39;49m\u001b[43mkwargs\u001b[49m\u001b[43m)\u001b[49m\n\u001b[1;32m   1261\u001b[0m \u001b[38;5;28;01mexcept\u001b[39;00m (\u001b[38;5;167;01mTypeError\u001b[39;00m, \u001b[38;5;167;01mValueError\u001b[39;00m):\n\u001b[1;32m   1262\u001b[0m   \u001b[38;5;66;03m# Note: convert_to_eager_tensor currently raises a ValueError, not a\u001b[39;00m\n\u001b[1;32m   1263\u001b[0m   \u001b[38;5;66;03m# TypeError, when given unexpected types.  So we need to catch both.\u001b[39;00m\n\u001b[1;32m   1264\u001b[0m   result \u001b[38;5;241m=\u001b[39m dispatch(op_dispatch_handler, args, kwargs)\n",
      "File \u001b[0;32m~/datadrive/venv/lib/python3.10/site-packages/tensorflow/python/ops/array_ops.py:4395\u001b[0m, in \u001b[0;36mone_hot\u001b[0;34m(indices, depth, on_value, off_value, axis, dtype, name)\u001b[0m\n\u001b[1;32m   4392\u001b[0m   on_dtype \u001b[38;5;241m=\u001b[39m dtype\n\u001b[1;32m   4393\u001b[0m \u001b[38;5;28;01mif\u001b[39;00m \u001b[38;5;129;01mnot\u001b[39;00m off_exists:\n\u001b[1;32m   4394\u001b[0m   \u001b[38;5;66;03m# off_value not provided: assign to value 0 of type dtype\u001b[39;00m\n\u001b[0;32m-> 4395\u001b[0m   off_value \u001b[38;5;241m=\u001b[39m \u001b[43mops\u001b[49m\u001b[38;5;241;43m.\u001b[39;49m\u001b[43mconvert_to_tensor\u001b[49m\u001b[43m(\u001b[49m\u001b[38;5;241;43m0\u001b[39;49m\u001b[43m,\u001b[49m\u001b[43m \u001b[49m\u001b[43mdtype\u001b[49m\u001b[43m,\u001b[49m\u001b[43m \u001b[49m\u001b[43mname\u001b[49m\u001b[38;5;241;43m=\u001b[39;49m\u001b[38;5;124;43m\"\u001b[39;49m\u001b[38;5;124;43moff_value\u001b[39;49m\u001b[38;5;124;43m\"\u001b[39;49m\u001b[43m)\u001b[49m\n\u001b[1;32m   4396\u001b[0m   off_dtype \u001b[38;5;241m=\u001b[39m dtype\n\u001b[1;32m   4398\u001b[0m \u001b[38;5;28;01mif\u001b[39;00m on_dtype \u001b[38;5;241m!=\u001b[39m off_dtype:\n",
      "File \u001b[0;32m~/datadrive/venv/lib/python3.10/site-packages/tensorflow/python/profiler/trace.py:183\u001b[0m, in \u001b[0;36mtrace_wrapper.<locals>.inner_wrapper.<locals>.wrapped\u001b[0;34m(*args, **kwargs)\u001b[0m\n\u001b[1;32m    181\u001b[0m   \u001b[38;5;28;01mwith\u001b[39;00m Trace(trace_name, \u001b[38;5;241m*\u001b[39m\u001b[38;5;241m*\u001b[39mtrace_kwargs):\n\u001b[1;32m    182\u001b[0m     \u001b[38;5;28;01mreturn\u001b[39;00m func(\u001b[38;5;241m*\u001b[39margs, \u001b[38;5;241m*\u001b[39m\u001b[38;5;241m*\u001b[39mkwargs)\n\u001b[0;32m--> 183\u001b[0m \u001b[38;5;28;01mreturn\u001b[39;00m \u001b[43mfunc\u001b[49m\u001b[43m(\u001b[49m\u001b[38;5;241;43m*\u001b[39;49m\u001b[43margs\u001b[49m\u001b[43m,\u001b[49m\u001b[43m \u001b[49m\u001b[38;5;241;43m*\u001b[39;49m\u001b[38;5;241;43m*\u001b[39;49m\u001b[43mkwargs\u001b[49m\u001b[43m)\u001b[49m\n",
      "File \u001b[0;32m~/datadrive/venv/lib/python3.10/site-packages/tensorflow/python/framework/ops.py:698\u001b[0m, in \u001b[0;36mconvert_to_tensor\u001b[0;34m(value, dtype, name, as_ref, preferred_dtype, dtype_hint, ctx, accepted_result_types)\u001b[0m\n\u001b[1;32m    696\u001b[0m \u001b[38;5;66;03m# TODO(b/142518781): Fix all call-sites and remove redundant arg\u001b[39;00m\n\u001b[1;32m    697\u001b[0m preferred_dtype \u001b[38;5;241m=\u001b[39m preferred_dtype \u001b[38;5;129;01mor\u001b[39;00m dtype_hint\n\u001b[0;32m--> 698\u001b[0m \u001b[38;5;28;01mreturn\u001b[39;00m \u001b[43mtensor_conversion_registry\u001b[49m\u001b[38;5;241;43m.\u001b[39;49m\u001b[43mconvert\u001b[49m\u001b[43m(\u001b[49m\n\u001b[1;32m    699\u001b[0m \u001b[43m    \u001b[49m\u001b[43mvalue\u001b[49m\u001b[43m,\u001b[49m\u001b[43m \u001b[49m\u001b[43mdtype\u001b[49m\u001b[43m,\u001b[49m\u001b[43m \u001b[49m\u001b[43mname\u001b[49m\u001b[43m,\u001b[49m\u001b[43m \u001b[49m\u001b[43mas_ref\u001b[49m\u001b[43m,\u001b[49m\u001b[43m \u001b[49m\u001b[43mpreferred_dtype\u001b[49m\u001b[43m,\u001b[49m\u001b[43m \u001b[49m\u001b[43maccepted_result_types\u001b[49m\n\u001b[1;32m    700\u001b[0m \u001b[43m\u001b[49m\u001b[43m)\u001b[49m\n",
      "File \u001b[0;32m~/datadrive/venv/lib/python3.10/site-packages/tensorflow/python/framework/tensor_conversion_registry.py:203\u001b[0m, in \u001b[0;36mconvert\u001b[0;34m(value, dtype, name, as_ref, preferred_dtype, accepted_result_types)\u001b[0m\n\u001b[1;32m    170\u001b[0m \u001b[38;5;250m\u001b[39m\u001b[38;5;124;03m\"\"\"Converts `value` to a `Tensor` using registered conversion functions.\u001b[39;00m\n\u001b[1;32m    171\u001b[0m \n\u001b[1;32m    172\u001b[0m \u001b[38;5;124;03mArgs:\u001b[39;00m\n\u001b[0;32m   (...)\u001b[0m\n\u001b[1;32m    199\u001b[0m \u001b[38;5;124;03m    value.\u001b[39;00m\n\u001b[1;32m    200\u001b[0m \u001b[38;5;124;03m\"\"\"\u001b[39;00m\n\u001b[1;32m    202\u001b[0m \u001b[38;5;28;01mif\u001b[39;00m dtype \u001b[38;5;129;01mis\u001b[39;00m \u001b[38;5;129;01mnot\u001b[39;00m \u001b[38;5;28;01mNone\u001b[39;00m:\n\u001b[0;32m--> 203\u001b[0m   dtype \u001b[38;5;241m=\u001b[39m \u001b[43mdtypes\u001b[49m\u001b[38;5;241;43m.\u001b[39;49m\u001b[43mas_dtype\u001b[49m\u001b[43m(\u001b[49m\u001b[43mdtype\u001b[49m\u001b[43m)\u001b[49m\n\u001b[1;32m    204\u001b[0m \u001b[38;5;28;01mif\u001b[39;00m preferred_dtype \u001b[38;5;129;01mis\u001b[39;00m \u001b[38;5;129;01mnot\u001b[39;00m \u001b[38;5;28;01mNone\u001b[39;00m:\n\u001b[1;32m    205\u001b[0m   preferred_dtype \u001b[38;5;241m=\u001b[39m dtypes\u001b[38;5;241m.\u001b[39mas_dtype(preferred_dtype)\n",
      "\u001b[0;31mKeyboardInterrupt\u001b[0m: "
     ]
    }
   ],
   "source": [
    "# Training the model\n",
    "history = model.fit([encoder_input_data, decoder_input_data], decoder_output_data, batch_size=16, epochs=1000, callbacks=[tensorboard_callback, custom_checkpoint_callback])"
   ]
  },
  {
   "cell_type": "markdown",
   "metadata": {
    "id": "eH1yQPSRyhwH"
   },
   "source": [
    "## Visualize Training Progress"
   ]
  },
  {
   "cell_type": "code",
   "execution_count": null,
   "metadata": {
    "id": "w4JcHuaJyhwH",
    "outputId": "ad205e9f-48b2-4b8a-d63c-6ed925138379"
   },
   "outputs": [],
   "source": [
    "import matplotlib.pyplot as plt\n",
    "plt.plot(history.history['loss'],label='Training_loss')\n",
    "plt.legend()\n",
    "plt.title('Training loss')\n",
    "plt.xlabel('Epochs')\n",
    "plt.ylabel('Loss')\n",
    "plt.show()\n",
    "plt.savefig('Loss_Graph')"
   ]
  },
  {
   "cell_type": "code",
   "execution_count": 173,
   "metadata": {
    "id": "Wt1s-hbuyhwH"
   },
   "outputs": [],
   "source": [
    "model.save_weights('chatbot_weights.h5')"
   ]
  },
  {
   "cell_type": "markdown",
   "metadata": {
    "id": "G2eRhxJTyhwI"
   },
   "source": [
    "## Bot Chatting"
   ]
  },
  {
   "cell_type": "code",
   "execution_count": 48,
   "metadata": {},
   "outputs": [
    {
     "name": "stdout",
     "output_type": "stream",
     "text": [
      "Model: \"transformer\"\n",
      "__________________________________________________________________________________________________\n",
      " Layer (type)                Output Shape                 Param #   Connected to                  \n",
      "==================================================================================================\n",
      " inputs (InputLayer)         [(None, None)]               0         []                            \n",
      "                                                                                                  \n",
      " dec_inputs (InputLayer)     [(None, None)]               0         []                            \n",
      "                                                                                                  \n",
      " enc_padding_mask (Lambda)   (None, 1, 1, None)           0         ['inputs[0][0]']              \n",
      "                                                                                                  \n",
      " encoder (Functional)        (None, None, 300)            2488924   ['inputs[0][0]',              \n",
      "                                                                     'enc_padding_mask[0][0]']    \n",
      "                                                                                                  \n",
      " look_ahead_mask (Lambda)    (None, 1, None, None)        0         ['dec_inputs[0][0]']          \n",
      "                                                                                                  \n",
      " dec_padding_mask (Lambda)   (None, 1, 1, None)           0         ['inputs[0][0]']              \n",
      "                                                                                                  \n",
      " decoder (Functional)        (None, None, 300)            3212524   ['dec_inputs[0][0]',          \n",
      "                                                                     'encoder[0][0]',             \n",
      "                                                                     'look_ahead_mask[0][0]',     \n",
      "                                                                     'dec_padding_mask[0][0]']    \n",
      "                                                                                                  \n",
      " dense_65 (Dense)            (None, None, 3827)           1151927   ['decoder[0][0]']             \n",
      "                                                                                                  \n",
      " outputs (Dense)             (None, None, 3827)           1464975   ['dense_65[0][0]']            \n",
      "                                                          6                                       \n",
      "                                                                                                  \n",
      "==================================================================================================\n",
      "Total params: 21503131 (82.03 MB)\n",
      "Trainable params: 19206931 (73.27 MB)\n",
      "Non-trainable params: 2296200 (8.76 MB)\n",
      "__________________________________________________________________________________________________\n"
     ]
    }
   ],
   "source": [
    "model.load_weights('/home/dattran/datadrive/AI-project/vietnamese_chatbot_research/checkpoints/checkpoint_6362.h5')\n",
    "\n",
    "# Check the loaded model architecture\n",
    "model.summary()"
   ]
  },
  {
   "cell_type": "code",
   "execution_count": 49,
   "metadata": {},
   "outputs": [],
   "source": [
    "idx2word = tokenizer.index_word"
   ]
  },
  {
   "cell_type": "code",
   "execution_count": 50,
   "metadata": {},
   "outputs": [],
   "source": [
    "def str_to_tokens(sentence):\n",
    "    words = word_tokenize(sentence.lower())\n",
    "    tokens_list = []\n",
    "    \n",
    "    for word in words:\n",
    "        tokens_list.append(word2idx[word]) \n",
    "    return pad_sequences([tokens_list],maxlen = maxlen_questions , padding='post')"
   ]
  },
  {
   "cell_type": "code",
   "execution_count": 51,
   "metadata": {},
   "outputs": [],
   "source": [
    "def evaluate(sentence):\n",
    "  sentence = str_to_tokens(sentence)\n",
    "  output = np.zeros((1, 1))\n",
    "  output[0, 0] = word2idx['start']\n",
    "\n",
    "  for i in range(maxlen_answers):\n",
    "    predictions = model(inputs=[sentence, output], training=False)\n",
    "\n",
    "    # select the last word from the seq_len dimension\n",
    "    predictions = predictions[:, -1:, :]\n",
    "    predicted_id = tf.cast(tf.argmax(predictions, axis=-1), tf.int32)\n",
    "\n",
    "    # return the result if the predicted_id is equal to the end token\n",
    "    if tf.equal(predicted_id, word2idx['end']):\n",
    "      break\n",
    "\n",
    "    # concatenated the predicted_id to the output which is given to the decoder as its input.\n",
    "    output = tf.concat([output, predicted_id], axis=-1)\n",
    "    \n",
    "  return tf.squeeze(output, axis=0)\n",
    "\n",
    "def predict(sentence):\n",
    "  prediction = evaluate(sentence)\n",
    "  predicted_sentence = \" \".join(idx2word[tf.get_static_value(i)] for i in prediction if i < VOCAB_SIZE)\n",
    "  return predicted_sentence.replace(\"start\",\"\")"
   ]
  },
  {
   "cell_type": "code",
   "execution_count": 52,
   "metadata": {
    "id": "mjaicXTBUBC7",
    "outputId": "7601b774-7f72-4954-bd90-1f332783d8dc"
   },
   "outputs": [
    {
     "name": "stdout",
     "output_type": "stream",
     "text": [
      "BOT: Xin chào! Tôi là ChatBot. Nếu bạn muốn ngưng cuộc trò chuyện, hãy gõ Bye!\n"
     ]
    },
    {
     "name": "stdin",
     "output_type": "stream",
     "text": [
      "Enter question :  xin chào bạn tên là gì?\n"
     ]
    },
    {
     "name": "stdout",
     "output_type": "stream",
     "text": [
      "BOT: Xin lỗi câu này tôi chưa đc học ,vui lòng hỏi lại :( \n"
     ]
    },
    {
     "name": "stdin",
     "output_type": "stream",
     "text": [
      "Enter question :  Thích mẫu người nào\n"
     ]
    },
    {
     "name": "stdout",
     "output_type": "stream",
     "text": [
      "BOT:  dễ thương tóc dài da trắng\n"
     ]
    },
    {
     "name": "stdin",
     "output_type": "stream",
     "text": [
      "Enter question :  Học trường nào?\n"
     ]
    },
    {
     "name": "stdout",
     "output_type": "stream",
     "text": [
      "BOT: Xin lỗi câu này tôi chưa đc học ,vui lòng hỏi lại :( \n"
     ]
    },
    {
     "name": "stdin",
     "output_type": "stream",
     "text": [
      "Enter question :  Học ở đâu\n"
     ]
    },
    {
     "name": "stdout",
     "output_type": "stream",
     "text": [
      "BOT:  tdtu\n"
     ]
    },
    {
     "name": "stdin",
     "output_type": "stream",
     "text": [
      "Enter question :  Học lực ra sao\n"
     ]
    },
    {
     "name": "stdout",
     "output_type": "stream",
     "text": [
      "BOT:  khá giỏi nha\n"
     ]
    },
    {
     "name": "stdin",
     "output_type": "stream",
     "text": [
      "Enter question :  Học giỏi không\n"
     ]
    },
    {
     "name": "stdout",
     "output_type": "stream",
     "text": [
      "BOT:  không\n"
     ]
    },
    {
     "name": "stdin",
     "output_type": "stream",
     "text": [
      "Enter question :  Học ở đâu\n"
     ]
    },
    {
     "name": "stdout",
     "output_type": "stream",
     "text": [
      "BOT:  tdtu\n"
     ]
    },
    {
     "name": "stdin",
     "output_type": "stream",
     "text": [
      "Enter question :  Học ở đâu\n"
     ]
    },
    {
     "name": "stdout",
     "output_type": "stream",
     "text": [
      "BOT:  tdtu\n"
     ]
    },
    {
     "name": "stdin",
     "output_type": "stream",
     "text": [
      "Enter question :  Học ở đâu\n"
     ]
    },
    {
     "name": "stdout",
     "output_type": "stream",
     "text": [
      "BOT:  tdtu\n"
     ]
    },
    {
     "name": "stdin",
     "output_type": "stream",
     "text": [
      "Enter question :  bạn có Có kí túc xá không?\n"
     ]
    },
    {
     "name": "stdout",
     "output_type": "stream",
     "text": [
      "BOT: Xin lỗi câu này tôi chưa đc học ,vui lòng hỏi lại :( \n"
     ]
    },
    {
     "name": "stdin",
     "output_type": "stream",
     "text": [
      "Enter question :  Có kí túc xá không\n"
     ]
    },
    {
     "name": "stdout",
     "output_type": "stream",
     "text": [
      "BOT:  có\n"
     ]
    },
    {
     "name": "stdin",
     "output_type": "stream",
     "text": [
      "Enter question :  có ở cùng với sinh viên trường không\n"
     ]
    },
    {
     "name": "stdout",
     "output_type": "stream",
     "text": [
      "BOT:  có cùng với 2 người trưuòng mình và 1 ở tài chính marketing\n"
     ]
    },
    {
     "name": "stdin",
     "output_type": "stream",
     "text": [
      "Enter question :  Bao nhiêu phòng ngủ\n"
     ]
    },
    {
     "name": "stdout",
     "output_type": "stream",
     "text": [
      "BOT:  3 phòng ngủ\n"
     ]
    },
    {
     "name": "stdin",
     "output_type": "stream",
     "text": [
      "Enter question :  nhà mày đâu?\n"
     ]
    },
    {
     "name": "stdout",
     "output_type": "stream",
     "text": [
      "BOT: Xin lỗi câu này tôi chưa đc học ,vui lòng hỏi lại :( \n"
     ]
    },
    {
     "name": "stdin",
     "output_type": "stream",
     "text": [
      "Enter question :  nhà mày đâu\n"
     ]
    },
    {
     "name": "stdout",
     "output_type": "stream",
     "text": [
      "BOT:  tphcm\n"
     ]
    },
    {
     "name": "stdin",
     "output_type": "stream",
     "text": [
      "Enter question :  quê mày ở đâu \n"
     ]
    },
    {
     "name": "stdout",
     "output_type": "stream",
     "text": [
      "BOT:  bình dương\n"
     ]
    },
    {
     "name": "stdin",
     "output_type": "stream",
     "text": [
      "Enter question :  quê tao ở bình thuận còn mày thì sao\n"
     ]
    },
    {
     "name": "stdout",
     "output_type": "stream",
     "text": [
      "BOT:  còn tao đi làm\n"
     ]
    },
    {
     "name": "stdin",
     "output_type": "stream",
     "text": [
      "Enter question :  quê tao ở đâu\n"
     ]
    },
    {
     "name": "stdout",
     "output_type": "stream",
     "text": [
      "BOT:  sài gòn\n"
     ]
    },
    {
     "ename": "KeyboardInterrupt",
     "evalue": "Interrupted by user",
     "output_type": "error",
     "traceback": [
      "\u001b[0;31m---------------------------------------------------------------------------\u001b[0m",
      "\u001b[0;31mKeyboardInterrupt\u001b[0m                         Traceback (most recent call last)",
      "Cell \u001b[0;32mIn[52], line 5\u001b[0m\n\u001b[1;32m      2\u001b[0m \u001b[38;5;28mprint\u001b[39m(\u001b[38;5;124m\"\u001b[39m\u001b[38;5;124mBOT: Xin chào! Tôi là ChatBot. Nếu bạn muốn ngưng cuộc trò chuyện, hãy gõ Bye!\u001b[39m\u001b[38;5;124m\"\u001b[39m)\n\u001b[1;32m      4\u001b[0m \u001b[38;5;28;01mwhile\u001b[39;00m(flag\u001b[38;5;241m==\u001b[39m\u001b[38;5;28;01mTrue\u001b[39;00m):\n\u001b[0;32m----> 5\u001b[0m     human_response \u001b[38;5;241m=\u001b[39m \u001b[38;5;28;43minput\u001b[39;49m\u001b[43m(\u001b[49m\u001b[38;5;124;43m'\u001b[39;49m\u001b[38;5;124;43mEnter question : \u001b[39;49m\u001b[38;5;124;43m'\u001b[39;49m\u001b[43m)\u001b[49m\n\u001b[1;32m      6\u001b[0m     \u001b[38;5;28;01mif\u001b[39;00m human_response \u001b[38;5;241m!=\u001b[39m \u001b[38;5;124m'\u001b[39m\u001b[38;5;124mbye\u001b[39m\u001b[38;5;124m'\u001b[39m:\n\u001b[1;32m      7\u001b[0m         \u001b[38;5;28;01mtry\u001b[39;00m:\n",
      "File \u001b[0;32m~/datadrive/venv/lib/python3.10/site-packages/ipykernel/kernelbase.py:1202\u001b[0m, in \u001b[0;36mKernel.raw_input\u001b[0;34m(self, prompt)\u001b[0m\n\u001b[1;32m   1200\u001b[0m     msg \u001b[38;5;241m=\u001b[39m \u001b[38;5;124m\"\u001b[39m\u001b[38;5;124mraw_input was called, but this frontend does not support input requests.\u001b[39m\u001b[38;5;124m\"\u001b[39m\n\u001b[1;32m   1201\u001b[0m     \u001b[38;5;28;01mraise\u001b[39;00m StdinNotImplementedError(msg)\n\u001b[0;32m-> 1202\u001b[0m \u001b[38;5;28;01mreturn\u001b[39;00m \u001b[38;5;28;43mself\u001b[39;49m\u001b[38;5;241;43m.\u001b[39;49m\u001b[43m_input_request\u001b[49m\u001b[43m(\u001b[49m\n\u001b[1;32m   1203\u001b[0m \u001b[43m    \u001b[49m\u001b[38;5;28;43mstr\u001b[39;49m\u001b[43m(\u001b[49m\u001b[43mprompt\u001b[49m\u001b[43m)\u001b[49m\u001b[43m,\u001b[49m\n\u001b[1;32m   1204\u001b[0m \u001b[43m    \u001b[49m\u001b[38;5;28;43mself\u001b[39;49m\u001b[38;5;241;43m.\u001b[39;49m\u001b[43m_parent_ident\u001b[49m\u001b[43m[\u001b[49m\u001b[38;5;124;43m\"\u001b[39;49m\u001b[38;5;124;43mshell\u001b[39;49m\u001b[38;5;124;43m\"\u001b[39;49m\u001b[43m]\u001b[49m\u001b[43m,\u001b[49m\n\u001b[1;32m   1205\u001b[0m \u001b[43m    \u001b[49m\u001b[38;5;28;43mself\u001b[39;49m\u001b[38;5;241;43m.\u001b[39;49m\u001b[43mget_parent\u001b[49m\u001b[43m(\u001b[49m\u001b[38;5;124;43m\"\u001b[39;49m\u001b[38;5;124;43mshell\u001b[39;49m\u001b[38;5;124;43m\"\u001b[39;49m\u001b[43m)\u001b[49m\u001b[43m,\u001b[49m\n\u001b[1;32m   1206\u001b[0m \u001b[43m    \u001b[49m\u001b[43mpassword\u001b[49m\u001b[38;5;241;43m=\u001b[39;49m\u001b[38;5;28;43;01mFalse\u001b[39;49;00m\u001b[43m,\u001b[49m\n\u001b[1;32m   1207\u001b[0m \u001b[43m\u001b[49m\u001b[43m)\u001b[49m\n",
      "File \u001b[0;32m~/datadrive/venv/lib/python3.10/site-packages/ipykernel/kernelbase.py:1245\u001b[0m, in \u001b[0;36mKernel._input_request\u001b[0;34m(self, prompt, ident, parent, password)\u001b[0m\n\u001b[1;32m   1242\u001b[0m \u001b[38;5;28;01mexcept\u001b[39;00m \u001b[38;5;167;01mKeyboardInterrupt\u001b[39;00m:\n\u001b[1;32m   1243\u001b[0m     \u001b[38;5;66;03m# re-raise KeyboardInterrupt, to truncate traceback\u001b[39;00m\n\u001b[1;32m   1244\u001b[0m     msg \u001b[38;5;241m=\u001b[39m \u001b[38;5;124m\"\u001b[39m\u001b[38;5;124mInterrupted by user\u001b[39m\u001b[38;5;124m\"\u001b[39m\n\u001b[0;32m-> 1245\u001b[0m     \u001b[38;5;28;01mraise\u001b[39;00m \u001b[38;5;167;01mKeyboardInterrupt\u001b[39;00m(msg) \u001b[38;5;28;01mfrom\u001b[39;00m \u001b[38;5;28;01mNone\u001b[39;00m\n\u001b[1;32m   1246\u001b[0m \u001b[38;5;28;01mexcept\u001b[39;00m \u001b[38;5;167;01mException\u001b[39;00m:\n\u001b[1;32m   1247\u001b[0m     \u001b[38;5;28mself\u001b[39m\u001b[38;5;241m.\u001b[39mlog\u001b[38;5;241m.\u001b[39mwarning(\u001b[38;5;124m\"\u001b[39m\u001b[38;5;124mInvalid Message:\u001b[39m\u001b[38;5;124m\"\u001b[39m, exc_info\u001b[38;5;241m=\u001b[39m\u001b[38;5;28;01mTrue\u001b[39;00m)\n",
      "\u001b[0;31mKeyboardInterrupt\u001b[0m: Interrupted by user"
     ]
    }
   ],
   "source": [
    "flag=True\n",
    "print(\"BOT: Xin chào! Tôi là ChatBot. Nếu bạn muốn ngưng cuộc trò chuyện, hãy gõ Bye!\")\n",
    "\n",
    "while(flag==True):\n",
    "    human_response = input('Enter question : ')\n",
    "    if human_response != 'bye':\n",
    "        try:\n",
    "            print('BOT: ' + predict(human_response))\n",
    "        except:\n",
    "            print(\"BOT: Xin lỗi câu này tôi chưa đc học ,vui lòng hỏi lại :( \")\n",
    "    else:\n",
    "        flag=False\n",
    "        print(\"BOT: Tạm biệt nha!\")"
   ]
  },
  {
   "cell_type": "code",
   "execution_count": null,
   "metadata": {},
   "outputs": [],
   "source": []
  }
 ],
 "metadata": {
  "kernelspec": {
   "display_name": "Python 3 (ipykernel)",
   "language": "python",
   "name": "python3"
  },
  "language_info": {
   "codemirror_mode": {
    "name": "ipython",
    "version": 3
   },
   "file_extension": ".py",
   "mimetype": "text/x-python",
   "name": "python",
   "nbconvert_exporter": "python",
   "pygments_lexer": "ipython3",
   "version": "3.10.13"
  }
 },
 "nbformat": 4,
 "nbformat_minor": 4
}
